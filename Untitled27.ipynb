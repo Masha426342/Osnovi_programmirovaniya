{
  "nbformat": 4,
  "nbformat_minor": 0,
  "metadata": {
    "colab": {
      "provenance": [],
      "authorship_tag": "ABX9TyNigjkEbElchVCTly5lCfAH",
      "include_colab_link": true
    },
    "kernelspec": {
      "name": "python3",
      "display_name": "Python 3"
    },
    "language_info": {
      "name": "python"
    }
  },
  "cells": [
    {
      "cell_type": "markdown",
      "metadata": {
        "id": "view-in-github",
        "colab_type": "text"
      },
      "source": [
        "<a href=\"https://colab.research.google.com/github/Masha426342/Osnovi_programmirovaniya/blob/main/Untitled27.ipynb\" target=\"_parent\"><img src=\"https://colab.research.google.com/assets/colab-badge.svg\" alt=\"Open In Colab\"/></a>"
      ]
    },
    {
      "cell_type": "markdown",
      "source": [
        "# № 9.2.1\n",
        "\n",
        "Установите пакет py-romanify, предназначенный для работы с римскими числами, после чего:\n",
        "\n",
        "введите с клавиатуры 1 римское и 1 арабское число;\n",
        "\n",
        "выведите на экран результаты операций +, -, *, // как арабские и как римские числа."
      ],
      "metadata": {
        "id": "q2oofNAHHtXn"
      }
    },
    {
      "cell_type": "code",
      "execution_count": null,
      "metadata": {
        "colab": {
          "base_uri": "https://localhost:8080/"
        },
        "id": "WeOwLDAIxuTn",
        "outputId": "fcff665b-67d5-4685-8294-8fe4152c0d91"
      },
      "outputs": [
        {
          "output_type": "stream",
          "name": "stdout",
          "text": [
            "Looking in indexes: https://pypi.org/simple, https://us-python.pkg.dev/colab-wheels/public/simple/\n",
            "Requirement already satisfied: py-romanify in /usr/local/lib/python3.8/dist-packages (1.0.0)\n"
          ]
        }
      ],
      "source": [
        "pip install py-romanify"
      ]
    },
    {
      "cell_type": "code",
      "source": [
        "arabic = int(input(\"введите арабское число\"))\n",
        "roman = str(input(\"введите римское число\"))\n",
        "\n",
        "\n",
        "import romanify\n",
        "\n",
        "\n",
        "def sum_n():\n",
        "  sum_a = arabic + romanify.roman2arabic(roman)\n",
        "  sum_r = romanify.arabic2roman(sum_a)\n",
        "  return sum_a, sum_r\n",
        "\n",
        "  \n",
        "\n",
        "def sub_n():\n",
        "  sub_a = arabic - romanify.roman2arabic(roman)\n",
        "  sub_r = romanify.arabic2roman(sub_a)\n",
        "  return sub_a, sub_r\n",
        "\n",
        "\n",
        "def mult_n():\n",
        "  mult_a = arabic * romanify.roman2arabic(roman)\n",
        "  mult_r = romanify.arabic2roman(mult_a)\n",
        "  return mult_a, mult_r\n",
        "\n",
        "\n",
        "\n",
        "def div_n():\n",
        "  div_a = arabic // romanify.roman2arabic(roman)\n",
        "  div_r = romanify.arabic2roman(div_a)\n",
        "  return div_a, div_r\n",
        "print(sum_n())\n",
        "print(sub_n())\n",
        "print(mult_n())\n",
        "print(div_n())"
      ],
      "metadata": {
        "colab": {
          "base_uri": "https://localhost:8080/"
        },
        "id": "GsChw5c6HaRH",
        "outputId": "14ef1d74-511e-4355-850b-bef9cc878d7e"
      },
      "execution_count": null,
      "outputs": [
        {
          "output_type": "stream",
          "name": "stdout",
          "text": [
            "введите арабское число100\n",
            "введите римское числоV\n",
            "(105, 'CV')\n",
            "(95, 'XCV')\n",
            "(500, 'D')\n",
            "(20, 'XX')\n"
          ]
        }
      ]
    },
    {
      "cell_type": "markdown",
      "source": [
        "# № 9.2.2\n",
        "\n",
        "Установите пакет pyscreenshot, предназначенный для создания скриншотов, используя следующую команду:\n",
        "\n",
        "pip install Pillow pyscreenshot\n",
        "Используя функции grab() и save(), создайте и сохраните скриншот рабочего стола."
      ],
      "metadata": {
        "id": "pFgvVgsqTGvq"
      }
    },
    {
      "cell_type": "code",
      "source": [
        "pip install Pillow pyscreenshot\n"
      ],
      "metadata": {
        "colab": {
          "base_uri": "https://localhost:8080/"
        },
        "id": "FOcmAQOzKWaf",
        "outputId": "773129cb-9232-4376-8a50-f0691c8ce5e0"
      },
      "execution_count": null,
      "outputs": [
        {
          "output_type": "stream",
          "name": "stdout",
          "text": [
            "Looking in indexes: https://pypi.org/simple, https://us-python.pkg.dev/colab-wheels/public/simple/\n",
            "Requirement already satisfied: Pillow in /usr/local/lib/python3.8/dist-packages (7.1.2)\n",
            "Requirement already satisfied: pyscreenshot in /usr/local/lib/python3.8/dist-packages (3.0)\n",
            "Requirement already satisfied: entrypoint2 in /usr/local/lib/python3.8/dist-packages (from pyscreenshot) (1.1)\n",
            "Requirement already satisfied: jeepney in /usr/local/lib/python3.8/dist-packages (from pyscreenshot) (0.8.0)\n",
            "Requirement already satisfied: EasyProcess in /usr/local/lib/python3.8/dist-packages (from pyscreenshot) (1.1)\n",
            "Requirement already satisfied: mss in /usr/local/lib/python3.8/dist-packages (from pyscreenshot) (7.0.1)\n"
          ]
        }
      ]
    },
    {
      "cell_type": "code",
      "source": [
        "import pyscreenshot as ImageGrab\n",
        "import time\n",
        "from datetime import datetime\n",
        "\n",
        "def take_screenshot():\n",
        "    print(\"Taking screenshot..\")\n",
        "    image = f\"screenshot-{str(datetime.now())}\"\n",
        "    screenshot = ImageGrab.grab()\n",
        "    \n",
        "    filepath = f\"./screenshots/{image}.png\"\n",
        "\n",
        "    print(\"Screenshot taken...\")\n",
        "    \n",
        "    screenshot.save(filepath)\n",
        "\n",
        "    return filepath\n",
        "if __name__ == '__main__' :\n",
        "    print(\"работает\")"
      ],
      "metadata": {
        "colab": {
          "base_uri": "https://localhost:8080/"
        },
        "id": "djlXKv7pKaN9",
        "outputId": "94aa99cf-944a-4a77-de56-9e0a92511f11"
      },
      "execution_count": null,
      "outputs": [
        {
          "output_type": "stream",
          "name": "stdout",
          "text": [
            "работает\n"
          ]
        }
      ]
    },
    {
      "cell_type": "markdown",
      "source": [
        "# № 9.2.3\n",
        "\n",
        "Для создания приложений с графическим интерфейсом в Python используются отдельные фреймворки/библиотеки/пакеты (см. подробнее). В задании приведен пример создания мини-калькулятора с помощью фреймворка Qt.\n",
        "\n",
        "Для выполнения задания установите пакет PyQt5:\n",
        "\n",
        "pip install PyQt5\n",
        "Изучив код и интерфейс приложения, добавьте кнопки для выполнения действий: -, *, /, //, %, изменив соответствующим образом код формирования интерфейса и функцию make_operation().\n",
        "\n",
        "Пример интерфейса приложения приведен на Рисунке 9.2.1."
      ],
      "metadata": {
        "id": "Z2t62_LlTc_G"
      }
    },
    {
      "cell_type": "code",
      "source": [
        "pip install PyQt5"
      ],
      "metadata": {
        "colab": {
          "base_uri": "https://localhost:8080/"
        },
        "id": "Pp5orDY8g2u_",
        "outputId": "231ba343-3068-4d5d-fffe-d80d7f3f83d2"
      },
      "execution_count": null,
      "outputs": [
        {
          "output_type": "stream",
          "name": "stdout",
          "text": [
            "Looking in indexes: https://pypi.org/simple, https://us-python.pkg.dev/colab-wheels/public/simple/\n",
            "Collecting PyQt5\n",
            "  Downloading PyQt5-5.15.7-cp37-abi3-manylinux1_x86_64.whl (8.4 MB)\n",
            "\u001b[K     |████████████████████████████████| 8.4 MB 5.4 MB/s \n",
            "\u001b[?25hCollecting PyQt5-sip<13,>=12.11\n",
            "  Downloading PyQt5_sip-12.11.0-cp38-cp38-manylinux1_x86_64.whl (361 kB)\n",
            "\u001b[K     |████████████████████████████████| 361 kB 47.2 MB/s \n",
            "\u001b[?25hCollecting PyQt5-Qt5>=5.15.0\n",
            "  Downloading PyQt5_Qt5-5.15.2-py3-none-manylinux2014_x86_64.whl (59.9 MB)\n",
            "\u001b[K     |████████████████████████████████| 59.9 MB 102 kB/s \n",
            "\u001b[?25hInstalling collected packages: PyQt5-sip, PyQt5-Qt5, PyQt5\n",
            "Successfully installed PyQt5-5.15.7 PyQt5-Qt5-5.15.2 PyQt5-sip-12.11.0\n"
          ]
        }
      ]
    },
    {
      "cell_type": "code",
      "source": [
        "import sys\n",
        "from PyQt5.QtWidgets import (\n",
        "    QApplication,\n",
        "    QWidget,\n",
        "    QLabel,\n",
        "    QLineEdit,\n",
        "    QGridLayout,\n",
        "    QHBoxLayout,\n",
        "    QPushButton,\n",
        "    QGroupBox,\n",
        "    QSizePolicy\n",
        ")\n",
        "from PyQt5.QtCore import Qt\n",
        "from PyQt5.QtGui import QIcon\n",
        "# Масштабирование для 4K-Мониторов\n",
        "import PyQt5\n",
        "QApplication.setAttribute(PyQt5.QtCore.Qt.AA_EnableHighDpiScaling, True)\n",
        "\n",
        "def make_operation(a, b, op):\n",
        "    \"\"\"Вернуть результат операции 'op' над 'a' и 'b'.\n",
        "\n",
        "    Параметры:\n",
        "        - a (int): первое число;\n",
        "        - b (int): первое число;\n",
        "        - op (str): операция над числами (\"+\", \"-\", \"*\", \"/\", \"//\", \"%\").\n",
        "\n",
        "    Результат:\n",
        "        - int, float или None (если нет такой операции).\n",
        "    \"\"\"\n",
        "    if op == \"+\":\n",
        "        return a + b\n",
        "    elif op == \"-\":\n",
        "        return a - b\n",
        "    elif op == \"*\":\n",
        "        return a * b\n",
        "    elif op == \"/\":\n",
        "        return a / b\n",
        "    elif op == \"//\":\n",
        "        return a // b\n",
        "    elif op == \"%\":\n",
        "        return a % b\n",
        "\n",
        "    # Удалите комментарий и допишите код\n",
        "\n",
        "\n",
        "def on_click(op):\n",
        "    try:\n",
        "        x = int(edt_x.text())\n",
        "        y = int(edt_y.text())\n",
        "        edt_res.setText(\"{}\".format(make_operation(x, y, op)))\n",
        "    except Exception as err:\n",
        "        # Текст ошибки выводится в текстовое поле и терминал\n",
        "        print(type(err), err)\n",
        "        edt_res.setText(\"Не могу выполнить операцию!\")\n",
        "\n",
        "\n",
        "if __name__ == \"__main__\":\n",
        "    app = QApplication(sys.argv)\n",
        "\n",
        "    # Главное окно приложения\n",
        "    w = QWidget()\n",
        "    w.setFixedSize(400, 150)\n",
        "    w.setWindowTitle(\"Мини-калькулятор\")\n",
        "    w.setWindowIcon(QIcon('main_icon.png'))\n",
        "\n",
        "    # Общее расположение элементов - сетка\n",
        "    grid = QGridLayout()\n",
        "    grid.setSpacing(10)\n",
        "\n",
        "    # 1-е метка\n",
        "    lbl_x = QLabel(\"Первое число:\")\n",
        "    # 2-е метка\n",
        "    lbl_y = QLabel(\"Второе число:\")\n",
        "    # Метка для результата\n",
        "    lbl_res = QLabel(\"Результат:\")\n",
        "\n",
        "    buttons_layout = QHBoxLayout()\n",
        "    grid.setSpacing(5)\n",
        "\n",
        "    # Кнопки\n",
        "    btn_add1 = QPushButton(\"+\")\n",
        "    btn_add2 = QPushButton(\"-\")\n",
        "    btn_add3 = QPushButton(\"*\")\n",
        "    btn_add4 = QPushButton(\"/\")\n",
        "    btn_add5 = QPushButton(\"//\")\n",
        "    btn_add6 = QPushButton(\"%\")\n",
        "    btn_add1.setSizePolicy(QSizePolicy.Expanding, QSizePolicy.Expanding)\n",
        "    btn_add2.setSizePolicy(QSizePolicy.Expanding, QSizePolicy.Expanding)\n",
        "    btn_add3.setSizePolicy(QSizePolicy.Expanding, QSizePolicy.Expanding)\n",
        "    btn_add4.setSizePolicy(QSizePolicy.Expanding, QSizePolicy.Expanding)\n",
        "    btn_add5.setSizePolicy(QSizePolicy.Expanding, QSizePolicy.Expanding)\n",
        "    btn_add6.setSizePolicy(QSizePolicy.Expanding, QSizePolicy.Expanding)\n",
        "\n",
        "\n",
        "    # Удалите комментарий и допишите код\n",
        "\n",
        "    buttons_layout.addWidget(btn_add1)\n",
        "    buttons_layout.addWidget(btn_add2)\n",
        "    buttons_layout.addWidget(btn_add3)\n",
        "    buttons_layout.addWidget(btn_add4)\n",
        "    buttons_layout.addWidget(btn_add5)\n",
        "    buttons_layout.addWidget(btn_add6)\n",
        "    # Удалите комментарий и допишите код\n",
        "\n",
        "    # Действия кнопок\n",
        "    btn_add1.clicked.connect(lambda: on_click(\"+\"))\n",
        "    btn_add2.clicked.connect(lambda: on_click(\"-\"))\n",
        "    btn_add3.clicked.connect(lambda: on_click(\"*\"))\n",
        "    btn_add4.clicked.connect(lambda: on_click(\"/\"))\n",
        "    btn_add5.clicked.connect(lambda: on_click(\"//\"))\n",
        "    btn_add6.clicked.connect(lambda: on_click(\"%\"))\n",
        "\n",
        "    # Удалите комментарий и допишите код\n",
        "\n",
        "    # 1-е текстовое поле\n",
        "    edt_x = QLineEdit()\n",
        "    edt_x.setAlignment(Qt.AlignCenter)\n",
        "    # 2-е текстовое поле\n",
        "    edt_y = QLineEdit()\n",
        "    edt_y.setAlignment(Qt.AlignCenter)\n",
        "    # Поле для результата\n",
        "    edt_res = QLineEdit()\n",
        "    edt_res.setAlignment(Qt.AlignCenter)\n",
        "    edt_res.setReadOnly(True)\n",
        "\n",
        "    gb_ops = QGroupBox(\"Операции\")\n",
        "    gb_ops.setLayout(buttons_layout)\n",
        "\n",
        "    # Общее расположение элементов\n",
        "    grid.addWidget(lbl_x, 0, 0, Qt.AlignRight)\n",
        "    grid.addWidget(edt_x, 0, 1)\n",
        "    grid.addWidget(lbl_y, 0, 2, Qt.AlignRight)\n",
        "    grid.addWidget(edt_y, 0, 3)\n",
        "    grid.addWidget(gb_ops, 1, 0, 1, 4)\n",
        "    grid.addWidget(lbl_res, 2, 0, Qt.AlignRight)\n",
        "    grid.addWidget(edt_res, 2, 1, 1, 3)\n",
        "\n",
        "    # Запуск приложения\n",
        "    w.setLayout(grid)\n",
        "    w.show()\n",
        "    sys.exit(app.exec_())\n"
      ],
      "metadata": {
        "id": "Yt3nZ0kKT8yN"
      },
      "execution_count": null,
      "outputs": []
    },
    {
      "cell_type": "markdown",
      "source": [
        "# № 9.2.4\n",
        "\n",
        "В настоящее время широкое распространение получили QR-коды (англ. Quick Response Code— код быстрого реагирования; QR code) - специальные штрихкоды, позволяющие хранить относительно большое количество информации в закодированном виде и быстро ее считывать (Рисунок 9.2.2).\n",
        "\n",
        "_images/09_02_02.png\n",
        "Рисунок 9.2.2 - Пример QR-кода со ссылкой на данный курс\n",
        "\n",
        "В Python также существуют пакеты для работы с QR-кодами, в частности PyQRCode и qreader. Для выполнения задачи установите (пакет qreader содержится в папке с задачей и не требует установки):\n",
        "\n",
        "pip install pyqrcode pypng Pillow six python_dateutil reedsolo\n",
        " Изучив примеры в описании пакетов, реализуйте модуль qr_utils.py, позволяющий выполнять генерацию и сохранение, а также загрузку QR-кода из файла."
      ],
      "metadata": {
        "id": "PbSIRFcziHGU"
      }
    },
    {
      "cell_type": "code",
      "source": [
        "pip install pyqrcode pypng Pillow six python_dateutil reedsolo"
      ],
      "metadata": {
        "colab": {
          "base_uri": "https://localhost:8080/"
        },
        "id": "EwZPlCkBiEeQ",
        "outputId": "c1abc064-293c-4723-d456-7bacce44fd38"
      },
      "execution_count": null,
      "outputs": [
        {
          "output_type": "stream",
          "name": "stdout",
          "text": [
            "Looking in indexes: https://pypi.org/simple, https://us-python.pkg.dev/colab-wheels/public/simple/\n",
            "Collecting pyqrcode\n",
            "  Downloading PyQRCode-1.2.1.zip (41 kB)\n",
            "\u001b[K     |████████████████████████████████| 41 kB 534 kB/s \n",
            "\u001b[?25hCollecting pypng\n",
            "  Downloading pypng-0.20220715.0-py3-none-any.whl (58 kB)\n",
            "\u001b[K     |████████████████████████████████| 58 kB 3.8 MB/s \n",
            "\u001b[?25hRequirement already satisfied: Pillow in /usr/local/lib/python3.8/dist-packages (7.1.2)\n",
            "Requirement already satisfied: six in /usr/local/lib/python3.8/dist-packages (1.15.0)\n",
            "Requirement already satisfied: python_dateutil in /usr/local/lib/python3.8/dist-packages (2.8.2)\n",
            "Collecting reedsolo\n",
            "  Downloading reedsolo-1.6.0.tar.gz (278 kB)\n",
            "\u001b[K     |████████████████████████████████| 278 kB 40.9 MB/s \n",
            "\u001b[?25hBuilding wheels for collected packages: pyqrcode, reedsolo\n",
            "  Building wheel for pyqrcode (setup.py) ... \u001b[?25l\u001b[?25hdone\n",
            "  Created wheel for pyqrcode: filename=PyQRCode-1.2.1-py3-none-any.whl size=36245 sha256=a77b3526737f26973352f86ce3e9affbcb7604c1cdf0bfacbf83c0b54fba3796\n",
            "  Stored in directory: /root/.cache/pip/wheels/e6/5e/b1/e42b38f43c94593ea57059de7e585c009c0f54e36e1a532992\n",
            "  Building wheel for reedsolo (setup.py) ... \u001b[?25l\u001b[?25hdone\n",
            "  Created wheel for reedsolo: filename=reedsolo-1.6.0-cp38-cp38-linux_x86_64.whl size=809003 sha256=0dbd3ac0c4e9c530f4de25772dccd3cf891f1e7451b307a2c434b9fe3ce1f694\n",
            "  Stored in directory: /root/.cache/pip/wheels/af/80/25/dd1712a144db157048b83de9bd2b7fd71995482c52cc8e5f3d\n",
            "Successfully built pyqrcode reedsolo\n",
            "Installing collected packages: reedsolo, pyqrcode, pypng\n",
            "Successfully installed pypng-0.20220715.0 pyqrcode-1.2.1 reedsolo-1.6.0\n"
          ]
        }
      ]
    },
    {
      "cell_type": "code",
      "source": [],
      "metadata": {
        "id": "yam34bCQiSa7"
      },
      "execution_count": null,
      "outputs": []
    }
  ]
}