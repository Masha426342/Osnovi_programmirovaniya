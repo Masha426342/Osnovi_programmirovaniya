{
  "nbformat": 4,
  "nbformat_minor": 0,
  "metadata": {
    "colab": {
      "provenance": [],
      "authorship_tag": "ABX9TyOruGg2DaCE7sK9DEf7q5Ez",
      "include_colab_link": true
    },
    "kernelspec": {
      "name": "python3",
      "display_name": "Python 3"
    },
    "language_info": {
      "name": "python"
    }
  },
  "cells": [
    {
      "cell_type": "markdown",
      "metadata": {
        "id": "view-in-github",
        "colab_type": "text"
      },
      "source": [
        "<a href=\"https://colab.research.google.com/github/Masha426342/Osnovi_programmirovaniya/blob/main/Untitled27.ipynb\" target=\"_parent\"><img src=\"https://colab.research.google.com/assets/colab-badge.svg\" alt=\"Open In Colab\"/></a>"
      ]
    },
    {
      "cell_type": "markdown",
      "source": [
        "# № 9.2.1\n",
        "\n",
        "Установите пакет py-romanify, предназначенный для работы с римскими числами, после чего:\n",
        "\n",
        "введите с клавиатуры 1 римское и 1 арабское число;\n",
        "\n",
        "выведите на экран результаты операций +, -, *, // как арабские и как римские числа."
      ],
      "metadata": {
        "id": "q2oofNAHHtXn"
      }
    },
    {
      "cell_type": "code",
      "execution_count": 14,
      "metadata": {
        "colab": {
          "base_uri": "https://localhost:8080/"
        },
        "id": "WeOwLDAIxuTn",
        "outputId": "fcff665b-67d5-4685-8294-8fe4152c0d91"
      },
      "outputs": [
        {
          "output_type": "stream",
          "name": "stdout",
          "text": [
            "Looking in indexes: https://pypi.org/simple, https://us-python.pkg.dev/colab-wheels/public/simple/\n",
            "Requirement already satisfied: py-romanify in /usr/local/lib/python3.8/dist-packages (1.0.0)\n"
          ]
        }
      ],
      "source": [
        "pip install py-romanify"
      ]
    },
    {
      "cell_type": "code",
      "source": [
        "arabic = int(input(\"введите арабское число\"))\n",
        "roman = str(input(\"введите римское число\"))\n",
        "\n",
        "\n",
        "import romanify\n",
        "\n",
        "\n",
        "def sum_n():\n",
        "  sum_a = arabic + romanify.roman2arabic(roman)\n",
        "  sum_r = romanify.arabic2roman(sum_a)\n",
        "  return sum_a, sum_r\n",
        "\n",
        "  \n",
        "\n",
        "def sub_n():\n",
        "  sub_a = arabic - romanify.roman2arabic(roman)\n",
        "  sub_r = romanify.arabic2roman(sub_a)\n",
        "  return sub_a, sub_r\n",
        "\n",
        "\n",
        "def mult_n():\n",
        "  mult_a = arabic * romanify.roman2arabic(roman)\n",
        "  mult_r = romanify.arabic2roman(mult_a)\n",
        "  return mult_a, mult_r\n",
        "\n",
        "\n",
        "\n",
        "def div_n():\n",
        "  div_a = arabic // romanify.roman2arabic(roman)\n",
        "  div_r = romanify.arabic2roman(div_a)\n",
        "  return div_a, div_r\n",
        "print(sum_n())\n",
        "print(sub_n())\n",
        "print(mult_n())\n",
        "print(div_n())"
      ],
      "metadata": {
        "colab": {
          "base_uri": "https://localhost:8080/"
        },
        "id": "GsChw5c6HaRH",
        "outputId": "14ef1d74-511e-4355-850b-bef9cc878d7e"
      },
      "execution_count": 16,
      "outputs": [
        {
          "output_type": "stream",
          "name": "stdout",
          "text": [
            "введите арабское число100\n",
            "введите римское числоV\n",
            "(105, 'CV')\n",
            "(95, 'XCV')\n",
            "(500, 'D')\n",
            "(20, 'XX')\n"
          ]
        }
      ]
    },
    {
      "cell_type": "markdown",
      "source": [
        "# № 9.2.2\n",
        "\n",
        "Установите пакет pyscreenshot, предназначенный для создания скриншотов, используя следующую команду:\n",
        "\n",
        "pip install Pillow pyscreenshot\n",
        "Используя функции grab() и save(), создайте и сохраните скриншот рабочего стола."
      ],
      "metadata": {
        "id": "pFgvVgsqTGvq"
      }
    },
    {
      "cell_type": "code",
      "source": [
        "pip install Pillow pyscreenshot\n"
      ],
      "metadata": {
        "colab": {
          "base_uri": "https://localhost:8080/"
        },
        "id": "FOcmAQOzKWaf",
        "outputId": "773129cb-9232-4376-8a50-f0691c8ce5e0"
      },
      "execution_count": 9,
      "outputs": [
        {
          "output_type": "stream",
          "name": "stdout",
          "text": [
            "Looking in indexes: https://pypi.org/simple, https://us-python.pkg.dev/colab-wheels/public/simple/\n",
            "Requirement already satisfied: Pillow in /usr/local/lib/python3.8/dist-packages (7.1.2)\n",
            "Requirement already satisfied: pyscreenshot in /usr/local/lib/python3.8/dist-packages (3.0)\n",
            "Requirement already satisfied: entrypoint2 in /usr/local/lib/python3.8/dist-packages (from pyscreenshot) (1.1)\n",
            "Requirement already satisfied: jeepney in /usr/local/lib/python3.8/dist-packages (from pyscreenshot) (0.8.0)\n",
            "Requirement already satisfied: EasyProcess in /usr/local/lib/python3.8/dist-packages (from pyscreenshot) (1.1)\n",
            "Requirement already satisfied: mss in /usr/local/lib/python3.8/dist-packages (from pyscreenshot) (7.0.1)\n"
          ]
        }
      ]
    },
    {
      "cell_type": "code",
      "source": [
        "import pyscreenshot as ImageGrab\n",
        "import time\n",
        "from datetime import datetime\n",
        "\n",
        "def take_screenshot():\n",
        "    print(\"Taking screenshot..\")\n",
        "    image = f\"screenshot-{str(datetime.now())}\"\n",
        "    screenshot = ImageGrab.grab()\n",
        "    \n",
        "    filepath = f\"./screenshots/{image}.png\"\n",
        "\n",
        "    print(\"Screenshot taken...\")\n",
        "    \n",
        "    screenshot.save(filepath)\n",
        "\n",
        "    return filepath\n",
        "if __name__ == '__main__' :\n",
        "    print(\"работает\")"
      ],
      "metadata": {
        "colab": {
          "base_uri": "https://localhost:8080/"
        },
        "id": "djlXKv7pKaN9",
        "outputId": "94aa99cf-944a-4a77-de56-9e0a92511f11"
      },
      "execution_count": 12,
      "outputs": [
        {
          "output_type": "stream",
          "name": "stdout",
          "text": [
            "работает\n"
          ]
        }
      ]
    },
    {
      "cell_type": "markdown",
      "source": [
        "# № 9.2.3\n",
        "\n",
        "Для создания приложений с графическим интерфейсом в Python используются отдельные фреймворки/библиотеки/пакеты (см. подробнее). В задании приведен пример создания мини-калькулятора с помощью фреймворка Qt.\n",
        "\n",
        "Для выполнения задания установите пакет PyQt5:\n",
        "\n",
        "pip install PyQt5\n",
        "Изучив код и интерфейс приложения, добавьте кнопки для выполнения действий: -, *, /, //, %, изменив соответствующим образом код формирования интерфейса и функцию make_operation().\n",
        "\n",
        "Пример интерфейса приложения приведен на Рисунке 9.2.1."
      ],
      "metadata": {
        "id": "Z2t62_LlTc_G"
      }
    },
    {
      "cell_type": "code",
      "source": [
        "import sys\n",
        "from PyQt5.QtWidgets import (\n",
        "    QApplication,\n",
        "    QWidget,\n",
        "    QLabel,\n",
        "    QLineEdit,\n",
        "    QGridLayout,\n",
        "    QHBoxLayout,\n",
        "    QPushButton,\n",
        "    QGroupBox,\n",
        "    QSizePolicy\n",
        ")\n",
        "from PyQt5.QtCore import Qt\n",
        "from PyQt5.QtGui import QIcon\n",
        "# Масштабирование для 4K-Мониторов\n",
        "import PyQt5\n",
        "QApplication.setAttribute(PyQt5.QtCore.Qt.AA_EnableHighDpiScaling, True)\n",
        "\n",
        "def make_operation(a, b, op):\n",
        "    \"\"\"Вернуть результат операции 'op' над 'a' и 'b'.\n",
        "\n",
        "    Параметры:\n",
        "        - a (int): первое число;\n",
        "        - b (int): первое число;\n",
        "        - op (str): операция над числами (\"+\", \"-\", \"*\", \"/\", \"//\", \"%\").\n",
        "\n",
        "    Результат:\n",
        "        - int, float или None (если нет такой операции).\n",
        "    \"\"\"\n",
        "    if op == \"+\":\n",
        "        return a + b\n",
        "    elif op == \"-\":\n",
        "        return a - b\n",
        "    elif op == \"*\":\n",
        "        return a * b\n",
        "    elif op == \"/\":\n",
        "        return a / b\n",
        "    elif op == \"//\":\n",
        "        return a // b\n",
        "    elif op == \"%\":\n",
        "        return a % b\n",
        "\n",
        "    # Удалите комментарий и допишите код\n",
        "\n",
        "\n",
        "def on_click(op):\n",
        "    try:\n",
        "        x = int(edt_x.text())\n",
        "        y = int(edt_y.text())\n",
        "        edt_res.setText(\"{}\".format(make_operation(x, y, op)))\n",
        "    except Exception as err:\n",
        "        # Текст ошибки выводится в текстовое поле и терминал\n",
        "        print(type(err), err)\n",
        "        edt_res.setText(\"Не могу выполнить операцию!\")\n",
        "\n",
        "\n",
        "if __name__ == \"__main__\":\n",
        "    app = QApplication(sys.argv)\n",
        "\n",
        "    # Главное окно приложения\n",
        "    w = QWidget()\n",
        "    w.setFixedSize(400, 150)\n",
        "    w.setWindowTitle(\"Мини-калькулятор\")\n",
        "    w.setWindowIcon(QIcon('main_icon.png'))\n",
        "\n",
        "    # Общее расположение элементов - сетка\n",
        "    grid = QGridLayout()\n",
        "    grid.setSpacing(10)\n",
        "\n",
        "    # 1-е метка\n",
        "    lbl_x = QLabel(\"Первое число:\")\n",
        "    # 2-е метка\n",
        "    lbl_y = QLabel(\"Второе число:\")\n",
        "    # Метка для результата\n",
        "    lbl_res = QLabel(\"Результат:\")\n",
        "\n",
        "    buttons_layout = QHBoxLayout()\n",
        "    grid.setSpacing(5)\n",
        "\n",
        "    # Кнопки\n",
        "    btn_add1 = QPushButton(\"+\")\n",
        "    btn_add2 = QPushButton(\"-\")\n",
        "    btn_add3 = QPushButton(\"*\")\n",
        "    btn_add4 = QPushButton(\"/\")\n",
        "    btn_add5 = QPushButton(\"//\")\n",
        "    btn_add6 = QPushButton(\"%\")\n",
        "    btn_add1.setSizePolicy(QSizePolicy.Expanding, QSizePolicy.Expanding)\n",
        "    btn_add2.setSizePolicy(QSizePolicy.Expanding, QSizePolicy.Expanding)\n",
        "    btn_add3.setSizePolicy(QSizePolicy.Expanding, QSizePolicy.Expanding)\n",
        "    btn_add4.setSizePolicy(QSizePolicy.Expanding, QSizePolicy.Expanding)\n",
        "    btn_add5.setSizePolicy(QSizePolicy.Expanding, QSizePolicy.Expanding)\n",
        "    btn_add6.setSizePolicy(QSizePolicy.Expanding, QSizePolicy.Expanding)\n",
        "\n",
        "\n",
        "    # Удалите комментарий и допишите код\n",
        "\n",
        "    buttons_layout.addWidget(btn_add1)\n",
        "    buttons_layout.addWidget(btn_add2)\n",
        "    buttons_layout.addWidget(btn_add3)\n",
        "    buttons_layout.addWidget(btn_add4)\n",
        "    buttons_layout.addWidget(btn_add5)\n",
        "    buttons_layout.addWidget(btn_add6)\n",
        "    # Удалите комментарий и допишите код\n",
        "\n",
        "    # Действия кнопок\n",
        "    btn_add1.clicked.connect(lambda: on_click(\"+\"))\n",
        "    btn_add2.clicked.connect(lambda: on_click(\"-\"))\n",
        "    btn_add3.clicked.connect(lambda: on_click(\"*\"))\n",
        "    btn_add4.clicked.connect(lambda: on_click(\"/\"))\n",
        "    btn_add5.clicked.connect(lambda: on_click(\"//\"))\n",
        "    btn_add6.clicked.connect(lambda: on_click(\"%\"))\n",
        "\n",
        "    # Удалите комментарий и допишите код\n",
        "\n",
        "    # 1-е текстовое поле\n",
        "    edt_x = QLineEdit()\n",
        "    edt_x.setAlignment(Qt.AlignCenter)\n",
        "    # 2-е текстовое поле\n",
        "    edt_y = QLineEdit()\n",
        "    edt_y.setAlignment(Qt.AlignCenter)\n",
        "    # Поле для результата\n",
        "    edt_res = QLineEdit()\n",
        "    edt_res.setAlignment(Qt.AlignCenter)\n",
        "    edt_res.setReadOnly(True)\n",
        "\n",
        "    gb_ops = QGroupBox(\"Операции\")\n",
        "    gb_ops.setLayout(buttons_layout)\n",
        "\n",
        "    # Общее расположение элементов\n",
        "    grid.addWidget(lbl_x, 0, 0, Qt.AlignRight)\n",
        "    grid.addWidget(edt_x, 0, 1)\n",
        "    grid.addWidget(lbl_y, 0, 2, Qt.AlignRight)\n",
        "    grid.addWidget(edt_y, 0, 3)\n",
        "    grid.addWidget(gb_ops, 1, 0, 1, 4)\n",
        "    grid.addWidget(lbl_res, 2, 0, Qt.AlignRight)\n",
        "    grid.addWidget(edt_res, 2, 1, 1, 3)\n",
        "\n",
        "    # Запуск приложения\n",
        "    w.setLayout(grid)\n",
        "    w.show()\n",
        "    sys.exit(app.exec_())\n"
      ],
      "metadata": {
        "colab": {
          "base_uri": "https://localhost:8080/",
          "height": 387
        },
        "id": "Yt3nZ0kKT8yN",
        "outputId": "209ad6ec-67f2-44a1-8196-c7ddfa79f722"
      },
      "execution_count": 17,
      "outputs": [
        {
          "output_type": "error",
          "ename": "ModuleNotFoundError",
          "evalue": "ignored",
          "traceback": [
            "\u001b[0;31m---------------------------------------------------------------------------\u001b[0m",
            "\u001b[0;31mModuleNotFoundError\u001b[0m                       Traceback (most recent call last)",
            "\u001b[0;32m<ipython-input-17-126cf6fff9a5>\u001b[0m in \u001b[0;36m<module>\u001b[0;34m\u001b[0m\n\u001b[1;32m      1\u001b[0m \u001b[0;32mimport\u001b[0m \u001b[0msys\u001b[0m\u001b[0;34m\u001b[0m\u001b[0;34m\u001b[0m\u001b[0m\n\u001b[0;32m----> 2\u001b[0;31m from PyQt5.QtWidgets import (\n\u001b[0m\u001b[1;32m      3\u001b[0m     \u001b[0mQApplication\u001b[0m\u001b[0;34m,\u001b[0m\u001b[0;34m\u001b[0m\u001b[0;34m\u001b[0m\u001b[0m\n\u001b[1;32m      4\u001b[0m     \u001b[0mQWidget\u001b[0m\u001b[0;34m,\u001b[0m\u001b[0;34m\u001b[0m\u001b[0;34m\u001b[0m\u001b[0m\n\u001b[1;32m      5\u001b[0m     \u001b[0mQLabel\u001b[0m\u001b[0;34m,\u001b[0m\u001b[0;34m\u001b[0m\u001b[0;34m\u001b[0m\u001b[0m\n",
            "\u001b[0;31mModuleNotFoundError\u001b[0m: No module named 'PyQt5'",
            "",
            "\u001b[0;31m---------------------------------------------------------------------------\u001b[0;32m\nNOTE: If your import is failing due to a missing package, you can\nmanually install dependencies using either !pip or !apt.\n\nTo view examples of installing some common dependencies, click the\n\"Open Examples\" button below.\n\u001b[0;31m---------------------------------------------------------------------------\u001b[0m\n"
          ],
          "errorDetails": {
            "actions": [
              {
                "action": "open_url",
                "actionText": "Open Examples",
                "url": "/notebooks/snippets/importing_libraries.ipynb"
              }
            ]
          }
        }
      ]
    }
  ]
}