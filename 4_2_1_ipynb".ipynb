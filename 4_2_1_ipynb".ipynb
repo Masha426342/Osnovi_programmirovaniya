{
  "nbformat": 4,
  "nbformat_minor": 0,
  "metadata": {
    "colab": {
      "provenance": [],
      "collapsed_sections": [],
      "authorship_tag": "ABX9TyMTY8wZ+2J7Hn/ewvm2wzS5",
      "include_colab_link": true
    },
    "kernelspec": {
      "name": "python3",
      "display_name": "Python 3"
    },
    "language_info": {
      "name": "python"
    }
  },
  "cells": [
    {
      "cell_type": "markdown",
      "metadata": {
        "id": "view-in-github",
        "colab_type": "text"
      },
      "source": [
        "<a href=\"https://colab.research.google.com/github/Masha426342/Osnovi_programmirovaniya/blob/main/4_2_1_ipynb%22.ipynb\" target=\"_parent\"><img src=\"https://colab.research.google.com/assets/colab-badge.svg\" alt=\"Open In Colab\"/></a>"
      ]
    },
    {
      "cell_type": "markdown",
      "source": [
        "Выполнила: Гутникова Мария Алексеевна\n",
        "Группа:АДЭУ-221\n",
        "e-mail: masha.gutnickowa@gmail.com"
      ],
      "metadata": {
        "id": "X5micvCQnkxL"
      }
    },
    {
      "cell_type": "markdown",
      "source": [
        "#4.2.1 \n",
        "Условный опратор\n",
        "\n",
        "Рассчитать значение f при заданном значении вещественного числа x:\n",
        "\n",
        "f(x)=⎧⎩⎨⎪⎪x−−√+x2,1x,при x⩾0,в противном случае.\n",
        "При выводе на экран оставьте 2 знака после запятой."
      ],
      "metadata": {
        "id": "5OIuUSyEncli"
      }
    },
    {
      "cell_type": "code",
      "source": [
        "x = float (input (\"введите число\"))\n",
        "if(x>=0) :\n",
        "  x=x**0.5 + x**2\n",
        "else:\n",
        "  x=1/x\n",
        "print(round(x,2))\n",
        "\n",
        "\n"
      ],
      "metadata": {
        "id": "AkzfLS6rFyQd",
        "colab": {
          "base_uri": "https://localhost:8080/"
        },
        "outputId": "fac98faf-9624-47d9-a4ae-055fe1318180"
      },
      "execution_count": null,
      "outputs": [
        {
          "output_type": "stream",
          "name": "stdout",
          "text": [
            "введите число6\n",
            "38.45\n"
          ]
        }
      ]
    },
    {
      "cell_type": "markdown",
      "source": [
        "#4.2.2\n",
        "\n",
        "Определите максимальное и минимальное значения из двух различных целых чисел."
      ],
      "metadata": {
        "id": "cUlnYtqSD9Wz"
      }
    },
    {
      "cell_type": "code",
      "source": [
        "a= int(input(\"введите первое число\"))\n",
        "b= int(input(\"введите второе число\"))\n",
        "if (a==b):\n",
        "  print(\"Максимум:\", a , \"Минимум:\", b)\n",
        "elif (a>b) :\n",
        "  print(\"Максимум:\", a , \"Минимум:\", b)\n",
        "else:\n",
        "  print(\"Максимум:\", b , \"Минимум:\",a)"
      ],
      "metadata": {
        "id": "vzLBymXrEDuC"
      },
      "execution_count": null,
      "outputs": []
    },
    {
      "cell_type": "markdown",
      "source": [
        "# 4.2.3\n",
        "\n",
        "Вася пытается высунуть голову в форточку размерами a и b см. Приняв условно, что его голова - круглая диаметром d см, определите, сможет ли Вася сделать это. Для прохождения головы в форточку необходим зазор в 1 см. с каждой стороны.\n",
        "\n",
        "Все величины - целые числа."
      ],
      "metadata": {
        "id": "JtYZ0t0cEJfT"
      }
    },
    {
      "cell_type": "code",
      "source": [
        "a=int(input(\"введите ширину окна:\"))\n",
        "b=int(input('Введите длину окна:'))\n",
        "d=int(input(\"введите диаметр головы:\"))\n",
        "if ((a or b or d)< 0 ) :\n",
        "  print(\"проверьте числа\")\n",
        "  \n",
        "else:\n",
        "  if (a-1>d) and (b-1>d) :\n",
        "    print(\"голова пролезет\")\n",
        "  else:\n",
        "    print(\"спасите васю\")"
      ],
      "metadata": {
        "id": "TaR0KwqeEUs3",
        "colab": {
          "base_uri": "https://localhost:8080/"
        },
        "outputId": "201e790c-63ca-4ba2-d100-cdc8307101f0"
      },
      "execution_count": null,
      "outputs": [
        {
          "output_type": "stream",
          "name": "stdout",
          "text": [
            "введите ширину окна:5\n",
            "Введите длину окна:7\n",
            "введите диаметр головы:10\n",
            "спасите васю\n"
          ]
        }
      ]
    },
    {
      "cell_type": "markdown",
      "source": [],
      "metadata": {
        "id": "_Zb8pdHlfmhU"
      }
    },
    {
      "cell_type": "markdown",
      "source": [
        "#4.2.4\n",
        "\n",
        "Известны год и номер месяца сегодняшнего дня, а также год и номер месяца рождения человека (нумерация месяцев с 1: январь - 1 и т.д.). Определите возраст человека (число полных лет)."
      ],
      "metadata": {
        "id": "Yw4TN20KEbNh"
      }
    },
    {
      "cell_type": "code",
      "source": [
        "year_today = int(input(\"введите год\"))\n",
        "month_today = int(input(\"введите месяц\"))\n",
        "\n",
        "year =int(input(\"введите год рождения\")) \n",
        "month =int(input(\"введите месяц рождения\"))\n",
        "age = year_today - year\n",
        "if (month>month_today) :\n",
        "  age=age-1\n",
        "  print(age)\n",
        "else:\n",
        "  print(age)"
      ],
      "metadata": {
        "colab": {
          "base_uri": "https://localhost:8080/"
        },
        "id": "STbXHitIEjT8",
        "outputId": "25ff646f-36ba-49c7-cc8d-b647d1fcdcc5"
      },
      "execution_count": null,
      "outputs": [
        {
          "output_type": "stream",
          "name": "stdout",
          "text": [
            "введите год2022\n",
            "введите месяц09\n",
            "введите год рождения2003\n",
            "введите месяц рождения12\n",
            "18\n"
          ]
        }
      ]
    },
    {
      "cell_type": "markdown",
      "source": [
        "# 4.2.5\n",
        "\n",
        "Дана точка с целыми ненулевыми координатами (x;y). Определить номер четверти координатной плоскости, которой она принадлежит."
      ],
      "metadata": {
        "id": "B3lSZ3geFEZf"
      }
    },
    {
      "cell_type": "markdown",
      "source": [
        "x=int(input(\"введите x\"))\n",
        "y=int(input(\"введите y\"))\n",
        "if (x>0) and (y>0) :\n",
        "  print(\"1-я четверть\")\n",
        "elif (x>0) and (y<0):\n",
        "  print(\"4-я четверть\")\n",
        "elif (x<0) and (y<0) :\n",
        "  print (\"третья четверть\")\n",
        "elif (x<0) and (y>0):\n",
        "  print(\"2-я четверть\")\n",
        "else:\n",
        "  print(\"невозможно определить\")"
      ],
      "metadata": {
        "id": "gzQDIwtCFF34"
      }
    },
    {
      "cell_type": "code",
      "source": [
        "x=int(input(\"введите x\"))\n",
        "y=int(input(\"введите y\"))\n",
        "if (x>0) and (y>0) :\n",
        "  print(\"1-я четверть\")\n",
        "elif (x>0) and (y<0):\n",
        "  print(\"4-я четверть\")\n",
        "elif (x<0) and (y<0) :\n",
        "  print (\"третья четверть\")\n",
        "elif (x<0) and (y>0):\n",
        "  print(\"2-я четверть\")\n",
        "else:\n",
        "  print(\"невозможно определить\")\n"
      ],
      "metadata": {
        "colab": {
          "base_uri": "https://localhost:8080/"
        },
        "id": "JhvwNdotitNA",
        "outputId": "94eea6f3-b124-4f97-df8e-e7d0758fef13"
      },
      "execution_count": null,
      "outputs": [
        {
          "output_type": "stream",
          "name": "stdout",
          "text": [
            "введите число10\n",
            "103.16\n"
          ]
        }
      ]
    },
    {
      "cell_type": "markdown",
      "source": [
        "#4.2.6\n",
        "Даны вещественные числа a, b, c (a≠0).\n",
        "\n",
        "Решите уравнение ax2+bx+c=0. При выводе значений оставьте 1 знак после запятой."
      ],
      "metadata": {
        "id": "HVZ_C1N4F94j"
      }
    },
    {
      "cell_type": "code",
      "source": [
        "a=float(input(\"введите число не равное 0\"))\n",
        "b=float(input(\"введите число\"))\n",
        "c=float(input(\"введите число\"))\n",
        "D = (b**2)-4*(a * c)\n",
        "if (D>0) :\n",
        "  x1 = (-b + D**0.5)/(2*a)\n",
        "  x2 = (-b - D**0.5)/(2*a)\n",
        "  print(round(x1,2))\n",
        "  print(round(x2,2))\n",
        "elif (D==0):\n",
        "  x= -b/(2*a)\n",
        "  print(round(x,2))\n",
        "else :\n",
        "  print(\"решений нет\")\n"
      ],
      "metadata": {
        "colab": {
          "base_uri": "https://localhost:8080/"
        },
        "id": "lqUnX2veGJYo",
        "outputId": "2674b332-92ef-41f7-c7da-ab865c5a1fe7"
      },
      "execution_count": null,
      "outputs": [
        {
          "output_type": "stream",
          "name": "stdout",
          "text": [
            "введите число не равное 04\n",
            "введите число7\n",
            "введите число3\n",
            "-0.75\n",
            "-1.0\n"
          ]
        }
      ]
    },
    {
      "cell_type": "markdown",
      "source": [
        "#4.2.7\n",
        "Дана непустая последовательность целых чисел, оканчивающаяся нулем. Найти сумму и количество введенных чисел."
      ],
      "metadata": {
        "id": "WOnllta9JBHb"
      }
    },
    {
      "cell_type": "code",
      "source": [
        "nums_count = 0\n",
        "nums_sum = 0\n",
        "x=int(input(\"введите первое число\"))\n",
        "while x!=0:\n",
        "  nums_count = nums_count+1\n",
        "  nums_sum=nums_sum+x\n",
        "  x=int(input(\"введите новoе число(чтобы прекатить последовательность введите 0\"))\n",
        "print (\"сумма=\", nums_sum)\n",
        "print (\"количество\", nums_count)"
      ],
      "metadata": {
        "colab": {
          "base_uri": "https://localhost:8080/"
        },
        "id": "P9i5lXvhJFzP",
        "outputId": "e5fe0382-f168-4ddf-e5c6-065cbb38f36a"
      },
      "execution_count": null,
      "outputs": [
        {
          "output_type": "stream",
          "name": "stdout",
          "text": [
            "введите первое число8\n",
            "введите новoе число(чтобы прекатить последовательность введите 06\n",
            "введите новoе число(чтобы прекатить последовательность введите 09\n",
            "введите новoе число(чтобы прекатить последовательность введите 04\n",
            "введите новoе число(чтобы прекатить последовательность введите 00\n",
            "сумма= 27\n",
            "количество 4\n"
          ]
        }
      ]
    },
    {
      "cell_type": "markdown",
      "source": [
        "#4.2.8\n",
        "Дано число n. Из чисел 0,5,10,15,20,25,... напечатать те, которые не превышают n."
      ],
      "metadata": {
        "id": "n8NFnyvaPLEG"
      }
    },
    {
      "cell_type": "code",
      "source": [
        "n=int(input(\"введите любое целое число\"))\n",
        "x = 0\n",
        "name= []\n",
        "while x<=n :\n",
        " name.append(x)\n",
        " x=x+5\n",
        "print(name) "
      ],
      "metadata": {
        "colab": {
          "base_uri": "https://localhost:8080/"
        },
        "id": "IGPhM9P9PQwb",
        "outputId": "f8be5344-4e0f-468a-a955-371c19218dec"
      },
      "execution_count": null,
      "outputs": [
        {
          "output_type": "stream",
          "name": "stdout",
          "text": [
            "введите любое целое число10\n",
            "[0, 5, 10]\n"
          ]
        }
      ]
    },
    {
      "cell_type": "markdown",
      "source": [
        "#4.2.9\n",
        "\n",
        "Дано вещественное число a. Найдите наименьшее натуральное n, для которого верно\n",
        "\n",
        "1+12+13+...+1n>a"
      ],
      "metadata": {
        "id": "c9UoJUskRafK"
      }
    },
    {
      "cell_type": "code",
      "source": [
        "a=float(input(\"введите число a\"))\n",
        "n=1\n",
        "name = []\n",
        "name.append(n)\n",
        "while sum(name)<=a:\n",
        "  n = n+1\n",
        "  b= 1/n\n",
        "  name.append(b)\n",
        "print(n)"
      ],
      "metadata": {
        "colab": {
          "base_uri": "https://localhost:8080/"
        },
        "id": "5zAN4rQFRfex",
        "outputId": "1c7ad150-df26-4e2a-ca06-84ce3b11b1b9"
      },
      "execution_count": null,
      "outputs": [
        {
          "output_type": "stream",
          "name": "stdout",
          "text": [
            "введите число a1.5\n",
            "3\n"
          ]
        }
      ]
    },
    {
      "cell_type": "markdown",
      "source": [
        "#4.2.10\n",
        "Дано натуральное число. Определите сумму и количество его цифр."
      ],
      "metadata": {
        "id": "fgOLzmzRYD7j"
      }
    },
    {
      "cell_type": "code",
      "source": [
        "n=int(input(\"введите натуральное число\"))\n",
        "n_count=[]\n",
        "while n>10:\n",
        "  g=n%10\n",
        "  n_count.append(g)\n",
        "  n=n-g\n",
        "  n=n/10\n",
        "n_count.append(n)\n",
        "print(len(n_count))\n",
        "n_sum = sum(n_count)\n",
        "print(n_sum)"
      ],
      "metadata": {
        "colab": {
          "base_uri": "https://localhost:8080/"
        },
        "id": "izSWLvpmYnYz",
        "outputId": "e61d547b-0ae8-4a63-dee4-0e56b1bb9e51"
      },
      "execution_count": null,
      "outputs": [
        {
          "output_type": "stream",
          "name": "stdout",
          "text": [
            "введите натуральное число11111\n",
            "5\n",
            "5.0\n"
          ]
        }
      ]
    },
    {
      "cell_type": "markdown",
      "source": [
        "#4.2.11\n",
        "\n",
        "Вывести в строку 10 первых натуральных чисел, оканчивающихся на цифру k, кратных числу s и находящихся в интервале, левая граница которого равна start."
      ],
      "metadata": {
        "id": "Rkz1jmtWjbcB"
      }
    },
    {
      "cell_type": "code",
      "source": [
        "start = int(input('Введите значение левой границы: ')) \n",
        "k = int(input('Введите цифру, на которую будут заканчиваться числа: ')) \n",
        "s = int(input('Введите цифру, которой будут кратны числа: ')) \n",
        "name = []\n",
        "while start%s!=0: \n",
        " start = start +1\n",
        "else:\n",
        "    for x in range(999):\n",
        "        start = start + 1\n",
        "        while start%s!=0:\n",
        "            start = start + 1\n",
        "        else:\n",
        "            if start%10==k:\n",
        "                name.append(start)\n",
        "\n",
        "print(name[:10])"
      ],
      "metadata": {
        "colab": {
          "base_uri": "https://localhost:8080/"
        },
        "id": "Nw26qksdjesQ",
        "outputId": "00a08c9c-3d56-41a9-acca-868328e50006"
      },
      "execution_count": null,
      "outputs": [
        {
          "output_type": "stream",
          "name": "stdout",
          "text": [
            "Введите значение левой границы: 40\n",
            "Введите цифру, на которую будут заканчиваться числа: 2\n",
            "Введите цифру, которой будут кратны числа: 3\n",
            "[72, 102, 132, 162, 192, 222, 252, 282, 312, 342]\n"
          ]
        }
      ]
    },
    {
      "cell_type": "markdown",
      "source": [
        "#4.2.12\n",
        "\n",
        "Даны целые числа \\(a\\) и \\(b\\) (\\(a\\) может быть больше \\(b\\)). Напечатайте:\n",
        "\n",
        "числа от минимального до максимального в строчку (разделяя пробелом);\n",
        "\n",
        "числа от максимального до минимального «столбиком»."
      ],
      "metadata": {
        "id": "fE-dIk8Ufygj"
      }
    },
    {
      "cell_type": "code",
      "source": [
        "a=int(input('введите целое число'))\n",
        "b=int(input('введите целое число'))\n",
        "name=[]\n",
        "word=[]\n",
        "if(a>b):\n",
        "  while (b<=a):\n",
        "    name.append(b)\n",
        "    b=b+1\n",
        "  print(name)\n",
        "  name.reverse()\n",
        "  print(*name,sep =\"\\n\")\n",
        "else:\n",
        "  while (a<=b):\n",
        "    name.append(a)\n",
        "    a=a+1\n",
        "  print(name)\n",
        "  name.reverse()\n",
        "  print(*name,sep =\"\\n\")"
      ],
      "metadata": {
        "colab": {
          "base_uri": "https://localhost:8080/"
        },
        "id": "IEazLiQtf1QT",
        "outputId": "461de8bd-32f8-4caf-9c3e-25ce7f97e02b"
      },
      "execution_count": null,
      "outputs": [
        {
          "output_type": "stream",
          "name": "stdout",
          "text": [
            "введите целое число7\n",
            "введите целое число5\n",
            "[5, 6, 7]\n",
            "7\n",
            "6\n",
            "5\n"
          ]
        }
      ]
    },
    {
      "cell_type": "markdown",
      "source": [
        "# 4.2.13\n",
        "\n",
        "Для введенных с клавиатуры положительных целых чисел \\(a\\) и \\(b\\) (\\(a \\leq b\\)) определите:\n",
        "\n",
        "сумму всех целых чисел от \\(a\\) до \\(b\\);\n",
        "\n",
        "произведение всех целых чисел от \\(a\\) до \\(b\\);\n",
        "\n",
        "среднее арифметическое всех целых чисел от \\(a\\) до \\(b\\);\n",
        "\n",
        "среднее геометрическое нечетных чисел от \\(a\\) до \\(b\\).\n",
        "\n",
        "Отрезок поиска включает сами числа \\(a\\) и \\(b\\). При выводе вещественных результатов оставьте два знака после запятой."
      ],
      "metadata": {
        "id": "CGvg8yt1o8Eg"
      }
    },
    {
      "cell_type": "code",
      "source": [
        "a=int(input(\"введите первое число\"))\n",
        "b=int(input(\"введите второе число, не меньшее, чем предыдущее\"))\n",
        "name=[]\n",
        "if (a>b):\n",
        "  print(\"не те числа\")\n",
        "else:\n",
        "  while (a<=b):\n",
        "    name.append(a)\n",
        "    a=a+1\n",
        "  sum_name=sum(name)\n",
        "  print(\"Сумма\" , sum_name)\n",
        "  name_mult=1\n",
        "  a=0\n",
        "  while a<(len(name)):\n",
        "    name_mult=name_mult*name[a]\n",
        "    a=a+1\n",
        "  name_medium=sum_name/len(name)\n",
        "  print(\"Среднее арифмиетическое\" , name_medium)\n",
        "  print(\"Произведение\" , name_mult)\n",
        "  b = 0\n",
        "  k = 0\n",
        "  name_geom = 1\n",
        "  while b<len(name):\n",
        "    if name[b]%2==1:\n",
        "        name_geom = name_geom*name[b]\n",
        "        b = b + 2\n",
        "        k = k + 1\n",
        "    else:\n",
        "        b = b + 1\n",
        "  \n",
        "  name_geom = round((name_geom**(1/c)),2)\n",
        "  print(\"Среднее геометрическое нечетных чисел = \", name_geom)\n",
        "\n",
        "\n",
        "\n"
      ],
      "metadata": {
        "colab": {
          "base_uri": "https://localhost:8080/"
        },
        "id": "dZgs3T8rpBrK",
        "outputId": "48d40f02-260c-4573-dbaa-829622ebe108"
      },
      "execution_count": null,
      "outputs": [
        {
          "output_type": "stream",
          "name": "stdout",
          "text": [
            "введите первое число5\n",
            "введите второе число, не меньшее, чем предыдущее7\n",
            "Сумма 18\n",
            "Среднее арифмиетическое 6.0\n",
            "Произведение 210\n",
            "Среднее геометрическое нечетных чисел =  5.92\n"
          ]
        }
      ]
    },
    {
      "cell_type": "markdown",
      "source": [
        "#4.2.14\n",
        "\n",
        "Начав тренировки, лыжник в первый день пробежал s км. (s>0, вещественное число). Каждый следующий день он увеличивал пробег на p % (0<p≤100, вещественное число) от пробега предыдущего дня. Определите:\n",
        "\n",
        "• пробег лыжника за второй, третий, …, десятый день тренировок;\n",
        "\n",
        "• какой суммарный путь он пробежал за первые 10 дней тренировок.\n",
        "\n",
        "При выводе вещественных результатов оставьте один знак после запятой."
      ],
      "metadata": {
        "id": "l71hXr867Ir-"
      }
    },
    {
      "cell_type": "code",
      "source": [
        "s=float(input(\"введите длину пробега лыжника\"))\n",
        "p=float(input(\"введите % увеличения пробега\"))\n",
        "name=[]\n",
        "a=1\n",
        "while a<=10:\n",
        "  name.append(s)\n",
        "  s=s*(1+(p/100))\n",
        "  a=a+1\n",
        "print(\"пробег за каждый день\" , name)\n",
        "name_sum=sum(name)\n",
        "print(\"сумма всех пробегов\" , name_sum)"
      ],
      "metadata": {
        "colab": {
          "base_uri": "https://localhost:8080/"
        },
        "id": "QqKA3u3e7mih",
        "outputId": "7082422b-fe89-4fc7-980b-8e59a9d0d257"
      },
      "execution_count": null,
      "outputs": [
        {
          "output_type": "stream",
          "name": "stdout",
          "text": [
            "введите длину пробега лыжника1\n",
            "введите % увеличения пробега100\n",
            "пробег за каждый день [1.0, 2.0, 4.0, 8.0, 16.0, 32.0, 64.0, 128.0, 256.0, 512.0]\n",
            "сумма всех пробегов 1023.0\n"
          ]
        }
      ]
    },
    {
      "cell_type": "markdown",
      "source": [
        "# 4.2.15\n",
        "\n",
        "Известна масса каждого предмета в кг., загружаемого в грузовик. Определить, возможна ли перевозка груза, если грузоподъемность грузовика равна \\(p\\) кг."
      ],
      "metadata": {
        "id": "o8aTMbbV_O9g"
      }
    },
    {
      "cell_type": "code",
      "source": [
        "a=float(input(\"введите массу первого предмета\"))\n",
        "p=float(input(\"введите грузоподъёмность грузовика\"))\n",
        "name=[a]\n",
        "if a<=0:\n",
        "  print(\"ошибка\")\n",
        "else:\n",
        "  while (a!=0):\n",
        "    a=float(input(\"введите массу ещё одного предмета, для прекращения ввода введите 0\"))\n",
        "    name.append(a)\n",
        "  sum_name=sum(name)\n",
        "  if(sum_name<=p):\n",
        "    print(\"перевозка возможна\")\n",
        "  else:\n",
        "    \n",
        "    print(\"перевозка невозможна\")"
      ],
      "metadata": {
        "colab": {
          "base_uri": "https://localhost:8080/"
        },
        "id": "HnW3_oAN_SrT",
        "outputId": "e8364326-ea65-4244-bf60-409e03a58c41"
      },
      "execution_count": null,
      "outputs": [
        {
          "output_type": "stream",
          "name": "stdout",
          "text": [
            "введите массу первого предмета1\n",
            "введите грузоподъёмность грузовика10\n",
            "введите массу ещё одного предмета, для прекращения ввода введите 04\n",
            "введите массу ещё одного предмета, для прекращения ввода введите 05\n",
            "введите массу ещё одного предмета, для прекращения ввода введите 00\n",
            "перевозка возможна\n"
          ]
        }
      ]
    },
    {
      "cell_type": "markdown",
      "source": [
        "#4.2.16\n",
        "\n",
        "В области несколько районов. Заданы площади, засеваемые пшеницей (га.), и средняя урожайность (ц/га) в каждом районе.\n",
        "\n",
        "Определите количество пшеницы, собранное по области. При выводе вещественных результатов оставьте один знак после запятой."
      ],
      "metadata": {
        "id": "bvFB_P3kFwQ5"
      }
    },
    {
      "cell_type": "code",
      "source": [
        "n = int(input('Введите количество районов: '))\n",
        "name=[]\n",
        "for x in range(n):\n",
        "  s = float(input(\"введите площадь района (га)\"))\n",
        "  t = float(input(\"введите урожайность в районе (ц/га.)\")) \n",
        "  f = s*t\n",
        "  name.append(f)\n",
        "print(round(sum(name), 1))"
      ],
      "metadata": {
        "colab": {
          "base_uri": "https://localhost:8080/"
        },
        "id": "9bBq1i2FF3Mk",
        "outputId": "a31aaf42-40b1-4583-d2bc-5863c60c04b9"
      },
      "execution_count": null,
      "outputs": [
        {
          "output_type": "stream",
          "name": "stdout",
          "text": [
            "Введите количество районов: 3\n",
            "введите площадь района (га)7\n",
            "введите урожайность в районе (ц/га.)3\n",
            "введите площадь района (га)7\n",
            "введите урожайность в районе (ц/га.)3\n",
            "введите площадь района (га)7\n",
            "введите урожайность в районе (ц/га.)3\n",
            "63.0\n"
          ]
        }
      ]
    },
    {
      "cell_type": "markdown",
      "source": [
        "# 4.2.17\n",
        "\n",
        "Решите задачу № 4.2.7, организовав бесконечный цикл, который бы прерывался при выполнении условия, используя оператор break."
      ],
      "metadata": {
        "id": "0H6uczyKOZDp"
      }
    },
    {
      "cell_type": "code",
      "source": [
        "nums_count = 0\n",
        "nums_sum = 0\n",
        "x=int(input(\"введите первое число\"))\n",
        "while (x!=0):\n",
        "  nums_count = nums_count+1\n",
        "  nums_sum=nums_sum+x\n",
        "  x=int(input(\"введите новoе число\"))\n",
        "  if (x==0):\n",
        "    break\n",
        "print (\"сумма=\", nums_sum)\n",
        "print (\"количество\", nums_count)"
      ],
      "metadata": {
        "colab": {
          "base_uri": "https://localhost:8080/"
        },
        "id": "lHFmcYsiPVMX",
        "outputId": "4940e2e7-025d-405d-ebc5-823548ed189a"
      },
      "execution_count": null,
      "outputs": [
        {
          "output_type": "stream",
          "name": "stdout",
          "text": [
            "введите первое число6\n",
            "введите новoе число6\n",
            "введите новoе число6\n",
            "введите новoе число6\n",
            "введите новoе число0\n",
            "сумма= 24\n",
            "количество 4\n"
          ]
        }
      ]
    },
    {
      "cell_type": "markdown",
      "source": [
        "#4.2.18\n",
        "\n",
        "Предложение, введенное с клавиатуры, содержит слова из гласных и согласных букв кириллицы (регистр может быть различный), а также пробелы.\n",
        "\n",
        "Определите количество гласных и согласных букв в предложении. Для пропуска пробелов используйте оператор continue."
      ],
      "metadata": {
        "id": "db_RjM7VS69x"
      }
    },
    {
      "cell_type": "code",
      "source": [
        "sentence = input(\"введите предложение\")\n",
        "gl = 0  \n",
        "sogl = 0  \n",
        "b=0\n",
        "for x in sentence: \n",
        "    a = x.lower()\n",
        "    if a == \"а\" or a == \"я\" or a == \"у\" or a == \"ю\" or a == \"о\" or a == \"е\" or a == \"ё\" or a == \"э\" or a == \"и\" or a == \"ы\":\n",
        "        gl = gl +1\n",
        "    elif  (a==\" \") :\n",
        "      b=b+0\n",
        "    else:\n",
        "      sogl=sogl+1\n",
        "print(\"Гласных\" , gl , \"Согласных\" , sogl)"
      ],
      "metadata": {
        "colab": {
          "base_uri": "https://localhost:8080/"
        },
        "id": "I9i8RV2HS_fI",
        "outputId": "243dac8b-e542-4289-8b0a-ff8c8d543474"
      },
      "execution_count": null,
      "outputs": [
        {
          "output_type": "stream",
          "name": "stdout",
          "text": [
            "введите предложениесаша саша\n",
            "Гласных 4 Согласных 4\n"
          ]
        }
      ]
    },
    {
      "cell_type": "markdown",
      "source": [
        "# 4.2.19\n",
        "\n",
        "Выведите на экран (в строку) все целые числа от a до b, кратные некоторому числу c."
      ],
      "metadata": {
        "id": "em7YhjnR1_G0"
      }
    },
    {
      "cell_type": "code",
      "source": [
        "a=int(input(\"введите первое число\"))\n",
        "b=int(input(\"введите второе число\"))\n",
        "c=int(input(\"введите число, котророму будут кратны все числа списка\"))\n",
        "name=[]\n",
        "name_k=[]\n",
        "if (a>b):\n",
        "  while (b<=a):\n",
        "    name.append(b)\n",
        "    b=b+1\n",
        "else:\n",
        "  while (a<=b):\n",
        "    name.append(a)\n",
        "    a=a+1\n",
        "for i in name:\n",
        "  if (i%c==0):\n",
        "    name_k.append(i)\n",
        "print(name_k)\n"
      ],
      "metadata": {
        "colab": {
          "base_uri": "https://localhost:8080/"
        },
        "id": "6x5N7eks2L27",
        "outputId": "be3be814-02e1-493f-8513-743954c7bd3e"
      },
      "execution_count": null,
      "outputs": [
        {
          "output_type": "stream",
          "name": "stdout",
          "text": [
            "введите меньшее5\n",
            "введите большее число10\n",
            "введите число, котророму будут кратны все числа списка2\n",
            "[6, 8, 10]\n"
          ]
        }
      ]
    },
    {
      "cell_type": "markdown",
      "source": [
        "# №4.2.20\n",
        "Выведите на экран (в строку) все трехзначные натуральные числа, сумма цифр которых равна целому числу n (0<n≤27)."
      ],
      "metadata": {
        "id": "GatDQU71-tUt"
      }
    },
    {
      "cell_type": "code",
      "source": [
        "n=int(input(\"введите целое число от 0 до 27\"))\n",
        "name=[]\n",
        "for x in range(100,1000):\n",
        "  a=(x//100)\n",
        "  b=((x%100)//10)\n",
        "  c=(x%10)\n",
        "  sum=(a+b+c)\n",
        "  if (sum==n):\n",
        "    name.append(x)\n",
        "print(name)\n",
        "\n",
        "\n",
        "\n",
        "\n",
        "  "
      ],
      "metadata": {
        "colab": {
          "base_uri": "https://localhost:8080/"
        },
        "id": "YhnnLHx8-2zx",
        "outputId": "82739ba7-47b2-463a-df71-e3db7d17beb3"
      },
      "execution_count": null,
      "outputs": [
        {
          "output_type": "stream",
          "name": "stdout",
          "text": [
            "введите целое число от 0 до 275\n",
            "[104, 113, 122, 131, 140, 203, 212, 221, 230, 302, 311, 320, 401, 410, 500]\n"
          ]
        }
      ]
    },
    {
      "cell_type": "markdown",
      "source": [
        "# 4.2.21\n",
        "\n",
        "Известно количество учеников в классе и их рост (см.); рост мальчиков условно задан отрицательными числами. Определите средний рост мальчиков и средний рост девочек."
      ],
      "metadata": {
        "id": "2O7utz632Fky"
      }
    },
    {
      "cell_type": "code",
      "source": [
        "n=int(input(\"введите количество учеников в классе\"))\n",
        "name=[]\n",
        "boys=[]\n",
        "girls=[]\n",
        "for x in range(n):\n",
        "  x=float(input(\"введите рост ученика(если это мальчик, то поставьте перед числом -\"))\n",
        "  name.append(x)\n",
        "for x in name:\n",
        "  if (x<0):\n",
        "    boys.append(x)\n",
        "  else:\n",
        "    girls.append(x)\n",
        "medium_boys=(sum(boys)/len(boys))*(-1)\n",
        "medium_girls=sum(girls)/len(girls)\n",
        "print(medium_boys)\n",
        "print(medium_girls)"
      ],
      "metadata": {
        "colab": {
          "base_uri": "https://localhost:8080/"
        },
        "id": "_H5AvjKp2Nqh",
        "outputId": "8fe7d11e-30cb-4215-9b7c-5d570717203a"
      },
      "execution_count": null,
      "outputs": [
        {
          "output_type": "stream",
          "name": "stdout",
          "text": [
            "введите количество учеников в классе4\n",
            "введите рост ученика(если это мальчик, то поставьте перед числом -6\n",
            "введите рост ученика(если это мальчик, то поставьте перед числом -4\n",
            "введите рост ученика(если это мальчик, то поставьте перед числом --2\n",
            "введите рост ученика(если это мальчик, то поставьте перед числом --3\n",
            "2.5\n",
            "5.0\n"
          ]
        }
      ]
    },
    {
      "cell_type": "markdown",
      "source": [
        "# 4.2.22\n",
        "\n",
        "Даны n вещественных чисел. Определите максимальное и минимальное из них.\n",
        "\n",
        "При выводе вещественных результатов оставьте два знака после запятой."
      ],
      "metadata": {
        "id": "iEg8hrn87Y7d"
      }
    },
    {
      "cell_type": "code",
      "source": [
        "n=int(input(\"введите количество чисел\"))\n",
        "name=[]\n",
        "for x in range(n):\n",
        "  x=int(input(\"введите число\"))\n",
        "  name.append(x)\n",
        "name.sort\n",
        "print(\"Минимальное:\" , name[0])\n",
        "name.sort(reverse=True)\n",
        "print(\"Максимальное:\" , name[0])"
      ],
      "metadata": {
        "colab": {
          "base_uri": "https://localhost:8080/"
        },
        "id": "lO5OuXtr7dER",
        "outputId": "b3055046-a8a7-4edf-fcac-c11dfb137afd"
      },
      "execution_count": null,
      "outputs": [
        {
          "output_type": "stream",
          "name": "stdout",
          "text": [
            "введите количество чисел10\n",
            "введите число-106\n",
            "введите число5\n",
            "введите число-77\n",
            "введите число9\n",
            "введите число34\n",
            "введите число56\n",
            "введите число2\n",
            "введите число5\n",
            "введите число23456\n",
            "введите число5678\n",
            "Минимальное: -106\n",
            "Максимальное: 23456\n"
          ]
        }
      ]
    },
    {
      "cell_type": "markdown",
      "source": [
        "#4.2.23\n",
        "\n",
        "Дано натуральное число n. Определите, является ли оно членом последовательности Фибоначчи ."
      ],
      "metadata": {
        "id": "OBjD02bDq9T3"
      }
    },
    {
      "cell_type": "code",
      "source": [
        "n=int(input(\"введите число\"))\n",
        "name=[]\n",
        "k=0\n",
        "x=0\n",
        "b=1\n",
        "name.append(x)\n",
        "name.append(b)\n",
        "while (x<1000000000):\n",
        "  x=x+b\n",
        "  name.append(x)\n",
        "  b=b+x\n",
        "  name.append(b)\n",
        "for x in name:\n",
        "  if (n==x):\n",
        "    k=n\n",
        "    print(\"число является членом последовательности Фибоначчи\")\n",
        "if(k!=n):\n",
        "  print(\"число не является членом последовательности Фибоначчи\")\n",
        "    \n",
        "  \n"
      ],
      "metadata": {
        "colab": {
          "base_uri": "https://localhost:8080/"
        },
        "id": "mXNBbtImrXLR",
        "outputId": "6185afc0-c34c-4fa0-b10c-3698a2f4b578"
      },
      "execution_count": null,
      "outputs": [
        {
          "output_type": "stream",
          "name": "stdout",
          "text": [
            "введите число46\n",
            "число не является членом последовательности Фибоначчи\n"
          ]
        }
      ]
    },
    {
      "cell_type": "markdown",
      "source": [
        "# 4.2.24\n",
        "\n",
        "Дано n вещественных чисел. Определите, является ли последовательность упорядоченной по возрастанию. В случае отрицательного ответа выведите порядковый номер числа, нарушающего такую упорядоченность."
      ],
      "metadata": {
        "id": "SdcNNPlIE9qG"
      }
    },
    {
      "cell_type": "code",
      "source": [
        "n=int(input(\"введите количество чисел\"))\n",
        "name=[]\n",
        "for x in range(n):\n",
        "  x=float(input(\"введите число\"))\n",
        "  name.append(x)\n",
        "index=1\n",
        "for i in range(1, n):\n",
        "  if name[i-1] >name[i]:\n",
        "    index=i-1\n",
        "    break\n",
        "if (index==1):\n",
        "  print(\"числа в порядке возрастания\")\n",
        "else:\n",
        "  print(name[i-1])"
      ],
      "metadata": {
        "colab": {
          "base_uri": "https://localhost:8080/"
        },
        "id": "xmwZwXZfFBWs",
        "outputId": "ae3bbca5-5eb2-4921-c28e-d8ccb543940b"
      },
      "execution_count": null,
      "outputs": [
        {
          "output_type": "stream",
          "name": "stdout",
          "text": [
            "введите количество чисел3\n",
            "введите число1\n",
            "введите число2\n",
            "введите число3\n",
            "числа в порядке возрастания\n"
          ]
        }
      ]
    },
    {
      "cell_type": "markdown",
      "source": [
        "#4.2.25\n",
        "\n",
        "Выведите на экран таблицу умножения на n (2<n≤9) в виде:\n",
        "\n",
        "1 х 1 = 1     1 х 2 = 2      ...   1 х n = ...\n",
        "2 х 1 = 2     2 х 2 = 4      ...   2 х n = ...\n",
        "...           ...            ...   ...\n",
        "n х 1 = ...   n х 2 = ...    ...   n х n = ..."
      ],
      "metadata": {
        "id": "pLKXDC-PaBc9"
      }
    },
    {
      "cell_type": "code",
      "source": [
        "n = int(input('Введите целое число: '))\n",
        "\n",
        "for x in range(1, n+1):\n",
        "    for i in range(1, n+1):\n",
        "        print(f'{x} * {i} = {x * i}\\t', end=' ')\n",
        "    print('')\n"
      ],
      "metadata": {
        "colab": {
          "base_uri": "https://localhost:8080/"
        },
        "id": "iOMH7iOBb0Ks",
        "outputId": "3c3e67fa-5bc4-4afc-bf9f-e46321a1f4e9"
      },
      "execution_count": 15,
      "outputs": [
        {
          "output_type": "stream",
          "name": "stdout",
          "text": [
            "Введите целое число: 5\n",
            "1 * 1 = 1\t 1 * 2 = 2\t 1 * 3 = 3\t 1 * 4 = 4\t 1 * 5 = 5\t \n",
            "2 * 1 = 2\t 2 * 2 = 4\t 2 * 3 = 6\t 2 * 4 = 8\t 2 * 5 = 10\t \n",
            "3 * 1 = 3\t 3 * 2 = 6\t 3 * 3 = 9\t 3 * 4 = 12\t 3 * 5 = 15\t \n",
            "4 * 1 = 4\t 4 * 2 = 8\t 4 * 3 = 12\t 4 * 4 = 16\t 4 * 5 = 20\t \n",
            "5 * 1 = 5\t 5 * 2 = 10\t 5 * 3 = 15\t 5 * 4 = 20\t 5 * 5 = 25\t \n"
          ]
        }
      ]
    },
    {
      "cell_type": "markdown",
      "source": [
        "#4.2.26\n",
        "\n",
        "Выведите графическое изображения делимости чисел от 1 до n (значение n вводится с клавиатуры) - в каждой строке напечатайте очередное число и столько символов *, сколько делителей у этого числа.\n",
        "\n",
        "Например, если n=4, на экране должно быть напечатано:\n",
        "\n",
        "1 *\n",
        "2 **\n",
        "3 **\n",
        "4 ***"
      ],
      "metadata": {
        "id": "p-NVkSHFgb8L"
      }
    },
    {
      "cell_type": "code",
      "source": [
        "n=int(input(\"введите любое число\"))\n",
        "for x in range(1,n+1):\n",
        "  a=2\n",
        "  b=2\n",
        "  while(x>b):\n",
        "    if (x%b==0):\n",
        "      a=a+1\n",
        "    b=b+1\n",
        "  print(x , a*\"*\")"
      ],
      "metadata": {
        "colab": {
          "base_uri": "https://localhost:8080/"
        },
        "id": "r8Ly-43bgfOr",
        "outputId": "6eb94f58-c994-48a9-c022-6d85e27248c2"
      },
      "execution_count": null,
      "outputs": [
        {
          "output_type": "stream",
          "name": "stdout",
          "text": [
            "введите любое число5\n",
            "1 **\n",
            "2 **\n",
            "3 **\n",
            "4 ***\n",
            "5 **\n"
          ]
        }
      ]
    },
    {
      "cell_type": "markdown",
      "source": [
        "# 4.2.27\n",
        "\n",
        "Выведите на экран (в строку) n первых простых чисел."
      ],
      "metadata": {
        "id": "toNn3CzQoZ0f"
      }
    },
    {
      "cell_type": "code",
      "source": [
        "n=int(input(\"сколько чисел вывести\"))\n",
        "name=[]\n",
        "name.append(1)\n",
        "name.append(2)\n",
        "name.append(3)\n",
        "for x in range(3, 100000):\n",
        "  if (x%2!=0) and (x%3):\n",
        "    name.append(x)\n",
        "print (name[:n])\n"
      ],
      "metadata": {
        "colab": {
          "base_uri": "https://localhost:8080/"
        },
        "id": "qASOhyHWocey",
        "outputId": "7dc9a09a-5ba5-43a1-955b-c18a65bb33af"
      },
      "execution_count": null,
      "outputs": [
        {
          "output_type": "stream",
          "name": "stdout",
          "text": [
            "сколько чисел вывести5\n",
            "[2, 3, 5, 7, 11]\n"
          ]
        }
      ]
    },
    {
      "cell_type": "markdown",
      "source": [
        "№ 4.2.28\n",
        "Составьте программу для нахождения всех натуральных решений уравнения x^2+y^2+z^2=k^2, где x,y,z∈[1,30], а k вводится с клавиатуры."
      ],
      "metadata": {
        "id": "-_1GhLtL7kLe"
      }
    },
    {
      "cell_type": "code",
      "source": [
        "k=int(input(\"введите любое число\"))\n",
        "for x in range(1, 31):\n",
        "  for y in range(1, 31):\n",
        "    for z in range(1, 31):\n",
        "      if (x**2+y**2+z**2==k**2):\n",
        "        print(x,y,z)"
      ],
      "metadata": {
        "colab": {
          "base_uri": "https://localhost:8080/"
        },
        "id": "9nNLjC4P7wpz",
        "outputId": "5d98e2a7-27e9-4c06-dcc7-34f3aff316f7"
      },
      "execution_count": 20,
      "outputs": [
        {
          "name": "stdout",
          "output_type": "stream",
          "text": [
            "введите любое число100\n"
          ]
        }
      ]
    }
  ]
}