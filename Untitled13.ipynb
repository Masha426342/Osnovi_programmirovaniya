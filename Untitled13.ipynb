{
  "nbformat": 4,
  "nbformat_minor": 0,
  "metadata": {
    "colab": {
      "provenance": [],
      "collapsed_sections": [],
      "authorship_tag": "ABX9TyNSsE1Cb3/60jYvP1q0hl62",
      "include_colab_link": true
    },
    "kernelspec": {
      "name": "python3",
      "display_name": "Python 3"
    },
    "language_info": {
      "name": "python"
    }
  },
  "cells": [
    {
      "cell_type": "markdown",
      "metadata": {
        "id": "view-in-github",
        "colab_type": "text"
      },
      "source": [
        "<a href=\"https://colab.research.google.com/github/Masha426342/Osnovi_programmirovaniya/blob/main/Untitled13.ipynb\" target=\"_parent\"><img src=\"https://colab.research.google.com/assets/colab-badge.svg\" alt=\"Open In Colab\"/></a>"
      ]
    },
    {
      "cell_type": "markdown",
      "source": [
        "# Программирование на языке высокого уровня (Python).\n",
        "# https://www.yuripetrov.ru/edu/python\n",
        "# Задание task_05_02_01.\n",
        "#\n",
        "# Выполнил: Гутникова Мария Алексеевна\n",
        "# Группа: АДЭУ-221\n",
        "# E-mail: masha.gutnickowa@gmail.com\n"
      ],
      "metadata": {
        "id": "BwdW-zV_Ofkv"
      }
    },
    {
      "cell_type": "markdown",
      "source": [
        "# 5.2.1\n",
        "\n",
        "Определите значение z=sgn(x)+y2sgn(y)−|x|−−√, где sgn - сигнум-функция, а x и y - вещественные числа:\n",
        "\n",
        "sgn(a)=⎧⎩⎨1,0,−1,a>0,a=0,a<0"
      ],
      "metadata": {
        "id": "JGg9DQJNOMiA"
      }
    },
    {
      "cell_type": "code",
      "source": [
        "def sgn(f):\n",
        "  if f<0:\n",
        "    return -1\n",
        "  elif f>0:\n",
        "    return 1\n",
        "  elif f==0:\n",
        "    return 0\n",
        "x=float(input(\"введите x\"))\n",
        "y=float(input(\"введите y\"))\n",
        "z=(sgn(x) + y**2)/(sgn(y)-(abs(x)**0.5))\n",
        "print(round(z,2))"
      ],
      "metadata": {
        "colab": {
          "base_uri": "https://localhost:8080/"
        },
        "id": "orXoAS8EORzf",
        "outputId": "f6788928-d34c-4d4d-cddf-7aade19fd041"
      },
      "execution_count": null,
      "outputs": [
        {
          "output_type": "stream",
          "name": "stdout",
          "text": [
            "введите x-9\n",
            "введите y0\n",
            "0.33\n"
          ]
        }
      ]
    },
    {
      "cell_type": "markdown",
      "source": [
        "# 5.2.2\n",
        "\n",
        "Дан список температурных изменений в течение дня (целые числа). Известно, что измеряющее устройство иногда сбоит и записывает отсутствие температуры (значение None).\n",
        "\n",
        "Выведите среднюю температуру за наблюдаемый промежуток времени, предварительно очистив список от неопределенных значений. Гарантируется, что хотя бы одно определенное значение в списке есть."
      ],
      "metadata": {
        "id": "v9N9Z55eO_pp"
      }
    },
    {
      "cell_type": "code",
      "source": [
        "def input_data():\n",
        "  for i in range(n):\n",
        "    demension=input(\"Измерение {}-e:\".format(i+1))\n",
        "    if demension ==\"-\":\n",
        "      data.append(None)\n",
        "    else:\n",
        "      data.append(int(demension))\n",
        "    i +=1\n",
        "def avg(new_data):\n",
        "  return sum(new_data)/len(new_data)\n",
        "def cleared_data(data):\n",
        "  new_data=[]\n",
        "  for x in data:\n",
        "    if x !=None:\n",
        "      new_data.append(x)\n",
        "  return new_data\n",
        "def print_res2():\n",
        "  z=avg(cleared_data(data))\n",
        "  print(\"Ср темпа:{:.2f}\".format(z))\n",
        "n=int(input())\n",
        "data=[]\n",
        "input_data()\n",
        "print_res2()\n",
        "\n",
        "\n"
      ],
      "metadata": {
        "colab": {
          "base_uri": "https://localhost:8080/"
        },
        "id": "rA5ugWLkPFv4",
        "outputId": "b1eb4ca0-7e81-4585-94db-885c6da5a1f9"
      },
      "execution_count": null,
      "outputs": [
        {
          "output_type": "stream",
          "name": "stdout",
          "text": [
            "6\n",
            "Измерение 1-e:1\n",
            "Измерение 2-e:3\n",
            "Измерение 3-e:6\n",
            "Измерение 4-e:8\n",
            "Измерение 5-e:-\n",
            "Измерение 6-e:2\n",
            "Ср темпа:4.00\n"
          ]
        }
      ]
    },
    {
      "cell_type": "markdown",
      "source": [
        "# 5.2.3\n",
        "\n",
        "Выведите все счастливые номера билетов в диапазоне от a до b (положительные целые числа, a<b), если известно, что счастливым считается номер, у которого количество четных цифр равно количеству нечетных."
      ],
      "metadata": {
        "id": "Jn3BoS2OVgf2"
      }
    },
    {
      "cell_type": "code",
      "source": [
        "g = []\n",
        "\n",
        "def is_lucky(num):\n",
        "    odd1 = []\n",
        "    even1 = []\n",
        "    p_c = num%10\n",
        "    p_f = num//10\n",
        "    if p_c%2==0:\n",
        "        even1.append(p_c)\n",
        "    else:\n",
        "        odd1.append(p_c)\n",
        "    if p_f%2 == 0:\n",
        "        even1.append(p_c)\n",
        "    else:\n",
        "        odd1.append(p_c)\n",
        "    if len(odd1) == len(even1):\n",
        "        g.append(num)\n",
        "    odd1.clear()\n",
        "    even1.clear()\n",
        "    return g\n",
        "\n",
        "def my_function():\n",
        "  a,b = map(int, input('введите через пробел первый и последний номера').split())\n",
        "  return a,b\n",
        "  \n",
        "a,b = my_function()\n",
        "\n",
        "for x in range(a, b+1):\n",
        "  is_lucky(x)\n",
        "\n",
        "print(' '.join(map(str, g)))"
      ],
      "metadata": {
        "id": "Zu8q-flcVnhA",
        "colab": {
          "base_uri": "https://localhost:8080/"
        },
        "outputId": "3125cb77-491c-4f39-b3f7-685831bb619e"
      },
      "execution_count": 19,
      "outputs": [
        {
          "output_type": "stream",
          "name": "stdout",
          "text": [
            "введите через пробел первый и последний номера17 23\n",
            "18 21 23\n"
          ]
        }
      ]
    },
    {
      "cell_type": "markdown",
      "source": [
        "# 5.2.4\n",
        "\n",
        "Дата характеризуется тремя натуральными числами: день, месяц и год. Учитывая, что год может быть високосным, реализуйте две функции, которые определяют вчерашнюю и завтрашнюю дату."
      ],
      "metadata": {
        "id": "pR1ZfSS6PStR"
      }
    },
    {
      "cell_type": "code",
      "source": [
        "def my_function():\n",
        "  day, month, year = map(int, input().split())\n",
        "  return day, month, year\n",
        "  \n",
        "day, month, year = my_function()\n",
        "print(day)\n",
        "print(month)\n",
        "print(year)"
      ],
      "metadata": {
        "colab": {
          "base_uri": "https://localhost:8080/"
        },
        "id": "vUpw7YNEPaX3",
        "outputId": "f9ccf11f-f35d-40df-afd8-c06cb33e64fb"
      },
      "execution_count": null,
      "outputs": [
        {
          "output_type": "stream",
          "name": "stdout",
          "text": [
            "30 12 2003\n",
            "30\n",
            "12\n",
            "2003\n"
          ]
        }
      ]
    },
    {
      "cell_type": "code",
      "source": [
        "def is_leap(year):\n",
        "  if year % 4 ==0 and year %100 != 0 or year % 400 == 0:\n",
        "    febrary_day=29\n",
        "  else:\n",
        "     febrary_day = 28\n",
        "  return febrary_day\n",
        "def days(month, year):\n",
        "  month_day_31=[1,3,5,7,8,10,12]\n",
        "  month_day_30=[4,6,9,11]\n",
        "  if month in month_day_31:\n",
        "    date=31\n",
        "  elif month in month_day_30:\n",
        "    date=30\n",
        "  else:\n",
        "    date=is_leap(year)\n",
        "  return date\n",
        "def previous_date(day, month, year):\n",
        "  if day == 1:\n",
        "    month -=1\n",
        "    if month == 0:\n",
        "      year -=1\n",
        "      month=12\n",
        "      day=days(month, year)\n",
        "    else:\n",
        "      year=year\n",
        "      month = month\n",
        "      day=days(month, year)\n",
        "  else:\n",
        "    day -=1\n",
        "    month=month\n",
        "    year=year\n",
        "  return day, month, year\n",
        "def next_date(day, month, year):\n",
        "  if day == days(month, year):\n",
        "    month += 1\n",
        "    if month == 13:\n",
        "      month=1\n",
        "      year+=1\n",
        "      day=1\n",
        "    else:\n",
        "      month=month\n",
        "      day=1\n",
        "      year=year\n",
        "  else:\n",
        "    day+=1\n",
        "    month = month\n",
        "    year=year\n",
        "  return day, month, year"
      ],
      "metadata": {
        "id": "EzfrS7mV0XQg"
      },
      "execution_count": null,
      "outputs": []
    },
    {
      "cell_type": "code",
      "source": [
        "print('Предыдущий день:' , previous_date(day,month, year))\n",
        "print('Следующий день:' , next_date(day,month, year))"
      ],
      "metadata": {
        "colab": {
          "base_uri": "https://localhost:8080/"
        },
        "id": "xcROYvVcTl2j",
        "outputId": "ada1d05a-5e7a-497c-a8b1-9b9782ebe1b3"
      },
      "execution_count": null,
      "outputs": [
        {
          "output_type": "stream",
          "name": "stdout",
          "text": [
            "Предыдущий день: (29, 12, 2003)\n",
            "Следующий день: (31, 12, 2003)\n"
          ]
        }
      ]
    },
    {
      "cell_type": "markdown",
      "source": [
        "# 5.2.6\n",
        "Дан список из чисел.\n",
        "\n",
        "Определите их НОК (наименьшее общее кратное) и НОД (наибольший общий делитель)."
      ],
      "metadata": {
        "id": "GQ_JFCsIIAzG"
      }
    },
    {
      "cell_type": "code",
      "source": [
        "def gcd(first, second):\n",
        "  if first > second:\n",
        "    a = second\n",
        "  else:\n",
        "    a = first\n",
        "  for i in range(1,a+1):\n",
        "    if (first % i == 0) and (second % i == 0 ):\n",
        "      gcd = i\n",
        "  return gcd\n",
        "\n",
        "def lcm(first, second):\n",
        "  if first>second:\n",
        "    n=first\n",
        "  else:\n",
        "    n=second\n",
        "  while(True):\n",
        "    if (n%first==0) and (n%second==0):\n",
        "      return n\n",
        "    n +=1\n",
        "\n",
        "def gcd_nums(nums):\n",
        "  for j in range(1,len(nums)-1):\n",
        "    nums[j]=gcd(nums[j-1],nums[j])\n",
        "  return nums[j] \n",
        "\n",
        "def lcm_nums(nums1):\n",
        "  for j in range(1,len(nums1)):\n",
        "    nums1[j]=lcm(nums1[j-1],nums1[j])\n",
        "  return nums1[j]\n",
        "\n",
        "nums =input(\"Введите числа\").split()\n",
        "nums=list(map(int,nums))\n",
        "nums1=nums.copy()\n",
        "nod=gcd_nums(nums)\n",
        "nok=lcm_nums(nums1)\n",
        "print(\"НОД=\",nod)\n",
        "print(\"НОК=\",nok)\n",
        "\n"
      ],
      "metadata": {
        "colab": {
          "base_uri": "https://localhost:8080/"
        },
        "id": "HDiL3aXlIO_V",
        "outputId": "92257bae-35f7-4ad3-ddb8-7c7c3c5d20c7"
      },
      "execution_count": 21,
      "outputs": [
        {
          "output_type": "stream",
          "name": "stdout",
          "text": [
            "Введите числа1 4 6 8\n",
            "НОД= 1\n",
            "НОК= 24\n"
          ]
        }
      ]
    },
    {
      "cell_type": "markdown",
      "source": [
        "# 5.2.7\n",
        "Даны n предложений. Определите, сколько из них содержат хотя бы одну цифру."
      ],
      "metadata": {
        "id": "pg8v9fENd182"
      }
    },
    {
      "cell_type": "code",
      "source": [
        "def word(sentence):\n",
        "    sentences = 0\n",
        "    sentence_list = list(map(str, sentence))\n",
        "    digit = '123456789'\n",
        "    digits = list(map(str, digit))\n",
        "    for y in digits:\n",
        "        if y in sentence_list:\n",
        "            sentences += 1\n",
        "    return sentences\n",
        "\n",
        "\n",
        "def sentences_with_digits_count(sentences):\n",
        "    print(f'Предложений с цифрой = {sentences}')\n"
      ],
      "metadata": {
        "id": "8NFeMDucd6u6"
      },
      "execution_count": 33,
      "outputs": []
    },
    {
      "cell_type": "code",
      "source": [
        "n = int(input('Введите количество предложений: '))\n",
        "sentences = 0\n",
        "kol = 0\n",
        "\n",
        "for x in range(n):\n",
        "  sentence1 = input(f'Введите предложение №{x+1}: ')\n",
        "  a = word(sentence1)\n",
        "  if a == 1:\n",
        "    kol += 1\n",
        "\n",
        "sentences_with_digits_count(kol)\n"
      ],
      "metadata": {
        "colab": {
          "base_uri": "https://localhost:8080/"
        },
        "id": "tEiNF-JRgiia",
        "outputId": "55e2da10-8234-4462-b1b9-05bd720f6309"
      },
      "execution_count": 36,
      "outputs": [
        {
          "output_type": "stream",
          "name": "stdout",
          "text": [
            "Введите количество предложений: 2\n",
            "Введите предложение №1: gfgf4\n",
            "Введите предложение №2: gfgf\n",
            "Предложений с цифрой = 1\n"
          ]
        }
      ]
    }
  ]
}