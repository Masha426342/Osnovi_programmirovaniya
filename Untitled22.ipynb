{
  "nbformat": 4,
  "nbformat_minor": 0,
  "metadata": {
    "colab": {
      "provenance": [],
      "authorship_tag": "ABX9TyPkN9BJBlg8XiMkIrHwOtsr",
      "include_colab_link": true
    },
    "kernelspec": {
      "name": "python3",
      "display_name": "Python 3"
    },
    "language_info": {
      "name": "python"
    }
  },
  "cells": [
    {
      "cell_type": "markdown",
      "metadata": {
        "id": "view-in-github",
        "colab_type": "text"
      },
      "source": [
        "<a href=\"https://colab.research.google.com/github/Masha426342/Osnovi_programmirovaniya/blob/main/Untitled22.ipynb\" target=\"_parent\"><img src=\"https://colab.research.google.com/assets/colab-badge.svg\" alt=\"Open In Colab\"/></a>"
      ]
    },
    {
      "cell_type": "markdown",
      "source": [
        "# Умножение матриц"
      ],
      "metadata": {
        "id": "77A3FqRkCTx1"
      }
    },
    {
      "cell_type": "code",
      "source": [
        "n=int(input(\"введите количество строк 1 матрицы\"))\n",
        "m=int(input(\"введите количество столбцов 1 матрицы\"))\n",
        "name=[]\n",
        "for i in range(n):#создается матрица 1\n",
        "  name.append(list(map(int, input(\"введите строку\").split())))\n",
        "n2=int(input(\"введите количество строк 2 матрицы\"))\n",
        "m2=int(input(\"введите количество столбцов 2 матрицы\"))\n",
        "name2=[]\n",
        "for i in range(n2):#создаётся матрица 2\n",
        "  name2.append(list(map(int, input(\"введите строку\").split())))\n"
      ],
      "metadata": {
        "colab": {
          "base_uri": "https://localhost:8080/"
        },
        "id": "S1AnXI7SWfSb",
        "outputId": "c95238d7-a6ea-4d31-8adb-2c04f402d0ef"
      },
      "execution_count": 26,
      "outputs": [
        {
          "name": "stdout",
          "output_type": "stream",
          "text": [
            "введите количество строк 1 матрицы1\n",
            "введите количество столбцов 1 матрицы1\n",
            "введите строку3\n",
            "введите количество строк 2 матрицы2\n",
            "введите количество столбцов 2 матрицы2\n",
            "введите строку1 2\n",
            "введите строку3 4\n"
          ]
        }
      ]
    },
    {
      "cell_type": "code",
      "source": [
        "if m==n2:\n",
        "  R=[]\n",
        "  t=[]\n",
        "  s=0\n",
        "  for i in range(0,n):\n",
        "    for j in range(0,m2):\n",
        "      for z in range(0,m):\n",
        "        s=s+name[i][z]*name2[z][j]\n",
        "      t.append(s)\n",
        "      s=0\n",
        "    R.append(t)\n",
        "    t=[]\n",
        "  for i in R:#выводит список в виде матрицы\n",
        "    print(i)\n",
        "elif len(name)==1:\n",
        "  a=name[0]\n",
        "  k=a[0]\n",
        "  new=[]\n",
        "  d=0\n",
        "  h=[]\n",
        "  for i in range(0,n2):\n",
        "    for j in range(0,m2):\n",
        "      d=name2[i][j]*k\n",
        "      new.append(d)\n",
        "      d=0\n",
        "    h.append(new)\n",
        "    new=[]\n",
        "  for i in h:\n",
        "    print (i)\n",
        "elif len(name2)==1:\n",
        "  a=name2[0]\n",
        "  k=a[0]\n",
        "  new=[]\n",
        "  d=0\n",
        "  h=[]\n",
        "  for i in range(0,n):\n",
        "    for j in range(0,m):\n",
        "      d=name[i][j]*k\n",
        "      new.append(d)\n",
        "      d=0\n",
        "    h.append(new)\n",
        "    new=[]\n",
        "  for i in h:\n",
        "    print (i)\n",
        "else:\n",
        "  print(\"невозможно перемножить матрицы\")"
      ],
      "metadata": {
        "colab": {
          "base_uri": "https://localhost:8080/"
        },
        "id": "MpI-g7O9WThv",
        "outputId": "93c98b1b-374e-4852-e4de-bec7508d2bda"
      },
      "execution_count": 27,
      "outputs": [
        {
          "output_type": "stream",
          "name": "stdout",
          "text": [
            "[3, 6]\n",
            "[9, 12]\n"
          ]
        }
      ]
    }
  ]
}