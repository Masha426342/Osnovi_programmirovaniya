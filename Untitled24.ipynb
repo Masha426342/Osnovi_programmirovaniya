{
  "nbformat": 4,
  "nbformat_minor": 0,
  "metadata": {
    "colab": {
      "provenance": [],
      "authorship_tag": "ABX9TyPy1G9UuhHTzKhpyxLkwMiY",
      "include_colab_link": true
    },
    "kernelspec": {
      "name": "python3",
      "display_name": "Python 3"
    },
    "language_info": {
      "name": "python"
    }
  },
  "cells": [
    {
      "cell_type": "markdown",
      "metadata": {
        "id": "view-in-github",
        "colab_type": "text"
      },
      "source": [
        "<a href=\"https://colab.research.google.com/github/Masha426342/Osnovi_programmirovaniya/blob/main/Untitled24.ipynb\" target=\"_parent\"><img src=\"https://colab.research.google.com/assets/colab-badge.svg\" alt=\"Open In Colab\"/></a>"
      ]
    },
    {
      "cell_type": "markdown",
      "source": [
        "# № 8.2.1\n",
        "\n",
        "С клавиатуры в одной строке вводится произвольное количество вещественных чисел. Запишите их в файл, расположив каждое число на отдельной строке."
      ],
      "metadata": {
        "id": "DzT14f3hpzEh"
      }
    },
    {
      "cell_type": "code",
      "execution_count": 138,
      "metadata": {
        "id": "rUU23-XWoxkE"
      },
      "outputs": [],
      "source": [
        "import locale\n",
        "locale.getpreferredencoding(False)  # 'cp1251' на российской сборке ОС Windows\n",
        "def load_data():\n",
        "  name=[]\n",
        "  name.append(list(map(int, input(\"введите строку\").split())))\n",
        "  values=name[0]\n",
        "  return values\n",
        "def save_data(values,filename):\n",
        "  filename=open('file.txt', 'w')\n",
        "  for letter in values:\n",
        "    i=str(letter)\n",
        "    filename.write(i)\n",
        "    filename.write('\\n')\n",
        "\n",
        "\n"
      ]
    },
    {
      "cell_type": "code",
      "source": [
        "try:\n",
        "  filename = open('file.txt', 'w')\n",
        "  values = load_data()\n",
        "  save_data(values, filename)\n",
        "  with open('file.txt', 'r') as filename:\n",
        "    for line in filename:\n",
        "      print(line)\n",
        "except FileNotFoundError:\n",
        "  print(\"ошибка чтения файла\")\n",
        "except:\n",
        "  print(\"ошибка при работе с файлом\")\n",
        "finally:\n",
        "  filename.close()\n"
      ],
      "metadata": {
        "colab": {
          "base_uri": "https://localhost:8080/"
        },
        "id": "pzOB1pzC_3iO",
        "outputId": "1f2eb484-e81a-4eb1-a360-792ac24bb0b2"
      },
      "execution_count": 146,
      "outputs": [
        {
          "output_type": "stream",
          "name": "stdout",
          "text": [
            "введите строку1 2 3\n",
            "1\n",
            "\n",
            "2\n",
            "\n",
            "3\n",
            "\n"
          ]
        }
      ]
    },
    {
      "cell_type": "markdown",
      "source": [
        "# № 8.2.2\n",
        "\n",
        "Дан файл, полученный на выходе задачи № 8.2.1:\n",
        "\n",
        "загрузите список чисел;\n",
        "\n",
        "вычислите их сумму и максимум и допишите их в файл.\n",
        "\n",
        "Выполнив программу несколько раз, убедитесь, что новые значения учитываются при подсчете.\n",
        "\n",
        "Если файл прочитать не удается, программа должна прекратить чтение и сообщить об этом пользователю."
      ],
      "metadata": {
        "id": "uRuGdftCOtUI"
      }
    },
    {
      "cell_type": "code",
      "source": [
        "def old(f):\n",
        "  print('файл до обработки')\n",
        "  f = open('file.txt', 'r')\n",
        "  for line in f:\n",
        "    print(line)\n",
        "  f.close()\n",
        "def new(values,f):\n",
        "  print('файл после обработки')\n",
        "  k=sum(values)\n",
        "  g=str(k)\n",
        "  b=max(values)\n",
        "  p=str(b)\n",
        "  f=open('file.txt', 'a')\n",
        "  f.write(g)\n",
        "  f.write('\\n')\n",
        "  f.write(p)\n",
        "  f.close()\n",
        "\n"
      ],
      "metadata": {
        "id": "qjCAgCzEOv0e"
      },
      "execution_count": 147,
      "outputs": []
    },
    {
      "cell_type": "code",
      "source": [
        "try:\n",
        "  f = open('file.txt', 'r')\n",
        "  old(f)\n",
        "  new(values,f) \n",
        "  with open('file.txt', 'r') as file:\n",
        "    for line in file:\n",
        "      print(line)\n",
        "except FileNotFoundError as err:\n",
        "    print(\"Указанный файл не существует.\")\n",
        "\n",
        "except (IOError, ValueError) as err:\n",
        "    print(\"Ошибка при чтении/сохранении файла с данными:\", err)\n",
        "\n",
        "except Exception as err:\n",
        "    print(\"Произошла ошибка!\")\n",
        "    print(\"Тип:\", type(err))\n",
        "    print(\"Описание:\", err)\n",
        "\n",
        "\n",
        "finally:\n",
        "  filename.close()"
      ],
      "metadata": {
        "colab": {
          "base_uri": "https://localhost:8080/"
        },
        "id": "voPh1StdRt9a",
        "outputId": "517294c9-a0dd-4f40-a0bc-0934a6ac5aa0"
      },
      "execution_count": 148,
      "outputs": [
        {
          "output_type": "stream",
          "name": "stdout",
          "text": [
            "файл до обработки\n",
            "1\n",
            "\n",
            "2\n",
            "\n",
            "3\n",
            "\n",
            "файл после обработки\n",
            "1\n",
            "\n",
            "2\n",
            "\n",
            "3\n",
            "\n",
            "6\n",
            "\n",
            "3\n"
          ]
        }
      ]
    },
    {
      "cell_type": "markdown",
      "source": [
        "# № 8.2.3\n",
        "\n",
        " Измените задачу № 8.2.2 так, чтобы вне зависимости от ошибок чтения файла, программа выполняла подсчет суммы и максимума."
      ],
      "metadata": {
        "id": "z-W10biUYGmH"
      }
    },
    {
      "cell_type": "code",
      "source": [
        "\n",
        "def load_data():\n",
        "  a=input()\n",
        "  values=list(a.split())\n",
        "  return values\n",
        "def save_data(values,filename):\n",
        "  print(\"старый список\")\n",
        "  filename=open('file2.txt', 'w')\n",
        "  for letter in values:\n",
        "    i=str(letter)\n",
        "    filename.write(i)\n",
        "    filename.write('\\n')\n",
        "  filename=open('file2.txt', 'r')\n",
        "  for line in filename:\n",
        "    print(line)\n",
        "def n(values,f):\n",
        "  lst = []\n",
        "  for i in values:\n",
        "    if i[0].isdigit():\n",
        "      for j in range(len(i)-1):\n",
        "        if i[j].isdigit() or i[j] == \".\":\n",
        "          pass\n",
        "        else:\n",
        "          break\n",
        "      else:\n",
        "        lst.append(float(i))\n",
        "  return lst\n",
        "def new2(lst,f):\n",
        "  print('файл после обработки')\n",
        "  k=sum(lst)\n",
        "  g=str(k)\n",
        "  b=max(lst)\n",
        "  p=str(b)\n",
        "  f=open('file2.txt', 'a')\n",
        "  f.write(g)\n",
        "  f.write('\\n')\n",
        "  f.write(p)\n",
        "  f.close()\n",
        "  f=open('file2.txt', 'r')\n",
        "  for line in f:\n",
        "    print(line)"
      ],
      "metadata": {
        "id": "sw_e0sc9YIyQ"
      },
      "execution_count": 218,
      "outputs": []
    },
    {
      "cell_type": "code",
      "source": [
        "try:\n",
        "  filename = open('file2.txt', 'w')\n",
        "  values = load_data()\n",
        "  save_data(values, filename)\n",
        "  lst=n(values,f)\n",
        "  new2(lst,f)\n",
        "except FileNotFoundError as err:\n",
        "    print(\"Указанный файл не существует.\")\n",
        "\n",
        "except (IOError, ValueError) as err:\n",
        "    print(\"Ошибка при чтении/сохранении файла с данными:\", err)\n",
        "\n",
        "except Exception as err:\n",
        "    print(\"Произошла ошибка!\")\n",
        "    print(\"Тип:\", type(err))\n",
        "    print(\"Описание:\", err)\n",
        "\n",
        "\n",
        "finally:\n",
        "  filename.close()"
      ],
      "metadata": {
        "colab": {
          "base_uri": "https://localhost:8080/"
        },
        "id": "CRELXGIyfZ8x",
        "outputId": "dae33c58-ce57-46c6-ff7b-91c98fed67fb"
      },
      "execution_count": 219,
      "outputs": [
        {
          "output_type": "stream",
          "name": "stdout",
          "text": [
            "1 2 3 ff\n",
            "старый список\n",
            "1\n",
            "\n",
            "2\n",
            "\n",
            "3\n",
            "\n",
            "ff\n",
            "\n",
            "файл после обработки\n",
            "1\n",
            "\n",
            "2\n",
            "\n",
            "3\n",
            "\n",
            "ff\n",
            "\n",
            "6.0\n",
            "\n",
            "3.0\n"
          ]
        }
      ]
    },
    {
      "cell_type": "markdown",
      "source": [
        "## № 8.2.4\n",
        "\n",
        "В файле записано стихотворение. Выведите его на экран, а также укажите, каких слов в нем больше: начинающихся на гласную или на согласную букву (регистр не учитывается)?"
      ],
      "metadata": {
        "id": "uIdi4qqu0kcO"
      }
    },
    {
      "cell_type": "code",
      "source": [
        "def load_text(filename):\n",
        "    \"\"\"Загрузить стихотворение из файла 'filename'.\n",
        "\n",
        "    Функция не обрабатывает исключения.\"\"\"\n",
        "    f = open(filename, \"r\")\n",
        "    t = \"\"\n",
        "    for i in f:\n",
        "      t += i\n",
        "    f.close()  \n",
        "    return t.replace(\"\\n\", \" \")\n",
        "    \n",
        "\n",
        "\n",
        "def letters_stats(text):\n",
        "    \"\"\"Вернуть словарь, содержащий количество гласных/согласных букв.\n",
        "\n",
        "    Параметры:\n",
        "        - text (str): стихотворение.\n",
        "\n",
        "    Результат:\n",
        "        - dict: словарь, содержащий количество гласных/согласных букв:\n",
        "                    {\n",
        "                        \"гласные\": 10,\n",
        "                        \"согласные\": 11\n",
        "                    }\n",
        "    \"\"\"\n",
        "    text = text.split()\n",
        "    dictionary = {\n",
        "                        \"гласные\": 0,\n",
        "                        \"согласные\": 0\n",
        "                    }\n",
        "    x = \"ауоиэыяюеё\"\n",
        "    y = \"бвгджзйклмнпрстфхцчшщ\"\n",
        "    for i in text:\n",
        "      if i[0].lower() in x:\n",
        "        dictionary[\"гласные\"] += 1\n",
        "      elif i[0].lower() in y:\n",
        "        dictionary[\"согласные\"] += 1\n",
        "    return dictionary\n",
        "try:\n",
        "  filename = input(\"Введите имя файла: \")\n",
        "  text = load_text(filename)\n",
        "\n",
        "  stats = letters_stats(text)\n",
        "  print(stats)\n",
        "except FileNotFoundError as err:\n",
        "    print(\"Указанный файл не существует.\")\n",
        "\n",
        "except IOError as err:\n",
        "    print(\"Ошибка при чтении/сохранении файла с данными:\", err)\n",
        "\n",
        "except Exception as err:\n",
        "    print(\"Произошла ошибка!\")\n",
        "    print(\"Тип:\", type(err))\n",
        "    print(\"Описание:\", err)\n",
        "\n",
        "\n"
      ],
      "metadata": {
        "colab": {
          "base_uri": "https://localhost:8080/"
        },
        "id": "4vgH6zhH0mYB",
        "outputId": "59541275-fbfa-420f-8f45-585e14ab59dc"
      },
      "execution_count": 221,
      "outputs": [
        {
          "output_type": "stream",
          "name": "stdout",
          "text": [
            "Введите имя файла: data.txt\n",
            "{'гласные': 8, 'согласные': 13}\n"
          ]
        }
      ]
    },
    {
      "cell_type": "markdown",
      "source": [
        "# № 8.2.5\n",
        "\n",
        "Информация о занятости мест в зрительном зале кинотеатра хранится в текстовом файле:\n",
        "где строка обозначает ряд, столбец - место (0 - свободно, 1 - занято).\n",
        "\n",
        "Напишите программу, которая позволит пользователю увидеть количество свободных мест, а также, введя номер ряда и места, получить информацию - свободно оно или нет."
      ],
      "metadata": {
        "id": "mNCiuRQM-CMh"
      }
    },
    {
      "cell_type": "code",
      "source": [
        "class NoSuchSeatError(Exception):\n",
        "    def __init__(self, message):\n",
        "        super().__init__(message)\n",
        "\n",
        "\n",
        "def load_seats(filename):\n",
        "  f = open(filename, \"r\")\n",
        "  t = []\n",
        "  for i in f:\n",
        "    t.append(i)\n",
        "  f.close()  \n",
        "  return t.replace(\"\\n\", \" \")\n",
        "  \"\"\"Загрузить данные о местах в зале из файла 'filename'.\n",
        "\n",
        "    Результат: list of list вида:\n",
        "\n",
        "        [\n",
        "            [0, 0, 1],     # 1 ряд, первые 2 места свободны\n",
        "            [1, 1, 1, 1],  # 2 ряд, все места заняты\n",
        "            ...\n",
        "        ]\n",
        "\n",
        "    Функция не обрабатывает исключения.\"\"\"\n",
        "    # Удалите комментарий и допишите код\n",
        "\n",
        "\n",
        "def vacant_seats(seats):\n",
        "    \"\"\"Вернуть количество свободных мест в 'seats'.\n",
        "\n",
        "    Параметры:\n",
        "        - seats (list of list): данные из load_seats().\n",
        "\n",
        "    Результат:\n",
        "        - int: количество свободных мест.\n",
        "    \"\"\"\n",
        "    # Удалите комментарий и допишите код\n",
        "\n",
        "\n",
        "def is_seat_vacant(seats, n_p, m_p):\n",
        "    \"\"\"Вернуть True, если место свободно.\n",
        "\n",
        "    Параметры:\n",
        "        - seats (list of list): данные из load_seats();\n",
        "        - n_p (int): номер ряда (индексация с 0);\n",
        "        - m_p (int): номер места (индексация с 0).\n",
        "\n",
        "    Результат:\n",
        "        - True/False: место свободно/нет.\n",
        "\n",
        "    Исключения:\n",
        "        - NoSuchSeatError: если места с указанными параметрами не существует.\n",
        "    \"\"\"\n",
        "    # Удалите комментарий и допишите код\n",
        "\n",
        "\n",
        "try:\n",
        "  filename = input(\"Введите имя файла: \")\n",
        "  seats = load_seats(filename)\n",
        "\n",
        "  count = vacant_seats(seats)\n",
        "  print(\"Всего свободных мест: {}\".format(count))\n",
        "except FileNotFoundError as err:\n",
        "    print(\"Указанный файл не существует.\")\n",
        "\n",
        "except IOError as err:\n",
        "    print(\"Ошибка при чтении/сохранении файла с данными:\", err)\n",
        "\n",
        "except Exception as err:\n",
        "    print(\"Произошла ошибка!\")\n",
        "    print(\"Тип:\", type(err))\n",
        "    print(\"Описание:\", err)\n",
        "\n",
        "# Ввод значений для поиска\n",
        "# Учитывайте, что пользователь привык считать с 1, а не с 0,\n",
        "# поэтому введенные сообщения необходимо скорректировать\n",
        "n_p, m_p = [int(item) for item in\n",
        "            input(\"Введите ряд и место через пробел: \").split()]\n",
        "\n",
        "print(\"Место свободно:\",\n",
        "      \"Да\" if is_seat_vacant(seats, n_p - 1, m_p - 1) else \"Нет\")\n",
        "\n"
      ],
      "metadata": {
        "id": "BD5xDBx_-Jdx"
      },
      "execution_count": null,
      "outputs": []
    },
    {
      "cell_type": "code",
      "source": [
        "def load_seats1(filename):\n",
        "  f = open(filename, \"r\")\n",
        "  t = []\n",
        "  for i in f:\n",
        "    t.append(i)\n",
        "  f.close()  \n",
        "  return t"
      ],
      "metadata": {
        "id": "ZMsFVj2gAUoT"
      },
      "execution_count": 229,
      "outputs": []
    },
    {
      "cell_type": "code",
      "source": [
        "data1.txt"
      ],
      "metadata": {
        "id": "GNStjsloAp1y"
      },
      "execution_count": null,
      "outputs": []
    },
    {
      "cell_type": "code",
      "source": [
        "filename = input(\"Введите имя файла: \")\n",
        "load_seats1(filename)"
      ],
      "metadata": {
        "colab": {
          "base_uri": "https://localhost:8080/"
        },
        "id": "vTqqggHwAWtP",
        "outputId": "5a7ab353-599b-4205-a675-739baad3b053"
      },
      "execution_count": 231,
      "outputs": [
        {
          "name": "stdout",
          "output_type": "stream",
          "text": [
            "Введите имя файла: data.txt\n"
          ]
        },
        {
          "output_type": "execute_result",
          "data": {
            "text/plain": [
              "['О сколько нам открытий чудных\\n',\n",
              " 'Готовят просвещенья дух\\n',\n",
              " 'И опыт, сын ошибок трудных,\\n',\n",
              " 'И гений, парадоксов друг,\\n',\n",
              " 'И случай, бог изобретатель...\\n']"
            ]
          },
          "metadata": {},
          "execution_count": 231
        }
      ]
    }
  ]
}