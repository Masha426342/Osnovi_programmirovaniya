{
  "nbformat": 4,
  "nbformat_minor": 0,
  "metadata": {
    "colab": {
      "provenance": [],
      "authorship_tag": "ABX9TyPRBMXBhk/LjMwG466HMDYF",
      "include_colab_link": true
    },
    "kernelspec": {
      "name": "python3",
      "display_name": "Python 3"
    },
    "language_info": {
      "name": "python"
    }
  },
  "cells": [
    {
      "cell_type": "markdown",
      "metadata": {
        "id": "view-in-github",
        "colab_type": "text"
      },
      "source": [
        "<a href=\"https://colab.research.google.com/github/Masha426342/Osnovi_programmirovaniya/blob/main/Untitled31.ipynb\" target=\"_parent\"><img src=\"https://colab.research.google.com/assets/colab-badge.svg\" alt=\"Open In Colab\"/></a>"
      ]
    },
    {
      "cell_type": "code",
      "execution_count": 7,
      "metadata": {
        "colab": {
          "base_uri": "https://localhost:8080/"
        },
        "id": "d9cWsh_mtmNT",
        "outputId": "7aa532ce-beb6-4809-92f1-ce6f34d74767"
      },
      "outputs": [
        {
          "output_type": "stream",
          "name": "stdout",
          "text": [
            "Dividing: 4.0\n"
          ]
        }
      ],
      "source": [
        "class A():\n",
        "  __a = float()\n",
        "  __b = float()\n",
        "  def __init__(self, __a, __b):\n",
        "    self.a = __a\n",
        "    self.b = __b\n",
        "  def divide(self):\n",
        "    self.a/=self.b\n",
        "    return self.a\n",
        "  def reduce(self):\n",
        "    c = self.a + self.b\n",
        "    return c\n",
        "  def __del__(self):\n",
        "    print('Process deleted.')\n",
        "c1 = A(20,5)\n",
        "print(f'Dividing: {c1.divide()}')\n"
      ]
    },
    {
      "cell_type": "code",
      "source": [
        "class Program():\n",
        "  def __init__(self):\n",
        "    c2 = A(20,5)\n",
        "    print(c2.divide())\n",
        "    print(c2.reduce())\n",
        "if __name__ == \"__main__\":\n",
        "  f1 = Program()\n",
        "  del f1"
      ],
      "metadata": {
        "colab": {
          "base_uri": "https://localhost:8080/"
        },
        "id": "ZVM6qoV-wLD4",
        "outputId": "342f5448-5620-45d2-b1ef-b98f2ebe26f8"
      },
      "execution_count": 8,
      "outputs": [
        {
          "output_type": "stream",
          "name": "stdout",
          "text": [
            "4.0\n",
            "9.0\n",
            "Process deleted.\n"
          ]
        }
      ]
    }
  ]
}