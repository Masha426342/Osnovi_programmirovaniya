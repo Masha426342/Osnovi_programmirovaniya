{
  "nbformat": 4,
  "nbformat_minor": 0,
  "metadata": {
    "colab": {
      "provenance": [],
      "authorship_tag": "ABX9TyOqr80Rvnef9zFAxvm4U+e6",
      "include_colab_link": true
    },
    "kernelspec": {
      "name": "python3",
      "display_name": "Python 3"
    },
    "language_info": {
      "name": "python"
    }
  },
  "cells": [
    {
      "cell_type": "markdown",
      "metadata": {
        "id": "view-in-github",
        "colab_type": "text"
      },
      "source": [
        "<a href=\"https://colab.research.google.com/github/Masha426342/Osnovi_programmirovaniya/blob/main/Untitled20.ipynb\" target=\"_parent\"><img src=\"https://colab.research.google.com/assets/colab-badge.svg\" alt=\"Open In Colab\"/></a>"
      ]
    },
    {
      "cell_type": "markdown",
      "source": [
        "#PEP8\n",
        "Нужен для улчшения читабельности кода. Это правила написания кода.\n",
        "\n",
        "Форматирование кода:"
      ],
      "metadata": {
        "id": "etTyKL4PrMK8"
      }
    },
    {
      "cell_type": "code",
      "source": [
        "# Correct\n",
        "\n",
        "def long_func_name(var_one,var_two\n",
        "                   var_three,var_four)\n",
        "my_list = [\n",
        "    1, 2, 3\n",
        "    4, 5, 6,\n",
        "    ]\n",
        "\n",
        "income = (abc\n",
        "          + acb\n",
        "          + abv\n",
        "          - adv\n",
        ")"
      ],
      "metadata": {
        "id": "w-LNkbWTrJj1"
      },
      "execution_count": null,
      "outputs": []
    },
    {
      "cell_type": "markdown",
      "source": [
        "# Пробелы"
      ],
      "metadata": {
        "id": "ZO44GkgaralH"
      }
    },
    {
      "cell_type": "code",
      "source": [
        "spam(ham[1], {eggs: 2})\n",
        "\n",
        "i = i + 1\n",
        "submitted += 1\n",
        "x = x*2 - 1\n",
        "c = (a+b) * (a-b)"
      ],
      "metadata": {
        "id": "0znH5G87rXYs"
      },
      "execution_count": null,
      "outputs": []
    },
    {
      "cell_type": "markdown",
      "source": [
        "# Стили"
      ],
      "metadata": {
        "id": "HdmO9nEgrDe2"
      }
    },
    {
      "cell_type": "code",
      "source": [
        "\n",
        "# UPPERCASE\n",
        "# lowercase\n",
        "# CapitalizedWords(слова с заглавными буквами)\n",
        "# mixedCase\n",
        "     "
      ],
      "metadata": {
        "id": "2uqL4XwNrCDi"
      },
      "execution_count": null,
      "outputs": []
    },
    {
      "cell_type": "markdown",
      "source": [
        "# Подчеркивания"
      ],
      "metadata": {
        "id": "SgkvGU2qrkJg"
      }
    },
    {
      "cell_type": "code",
      "source": [
        "#_var(подчеркивание перед переменной - только для внутренего использвания)\n",
        "\n",
        "# Одиночное подчеркивание для несущественных переменных\n",
        "\n",
        "for _ in range(3):\n",
        "  print(\"Hello\")\n",
        "\n",
        "car = ('red', 'auto', 12, 3812.4)\n",
        "color, _, _, 123\n",
        "\n",
        "# Виды ошибок\n",
        "\n",
        "# Синтаксчические\n",
        "# КритическиеЮ не позволяющие продлжить работу\n",
        "# Рядовые ошибки, с которыми программа не работает\n",
        "     "
      ],
      "metadata": {
        "id": "Bx0cop0erpeX"
      },
      "execution_count": null,
      "outputs": []
    },
    {
      "cell_type": "markdown",
      "source": [
        "# Синтаксис исключений\n",
        "     "
      ],
      "metadata": {
        "id": "1tcPQYU7rqkA"
      }
    },
    {
      "cell_type": "code",
      "source": [
        "\n",
        "filename = '123'\n",
        "try:\n",
        "  df = open(filename, 'r')\n",
        "except FileNotFoundError:\n",
        "  print(\"File %s does not exist\" % filename)\n",
        "     "
      ],
      "metadata": {
        "id": "_BU8aVurr40y"
      },
      "execution_count": null,
      "outputs": []
    },
    {
      "cell_type": "code",
      "source": [
        "filename = \"123\"\n",
        "try:\n",
        "  x = 1\n",
        "  df = open(filename, \"r\")\n",
        "except FileNotFoundError:\n",
        "  print(\"File %s does not exist\" % filename)\n",
        "else:\n",
        "  "
      ],
      "metadata": {
        "id": "eeFqRymtr50J"
      },
      "execution_count": null,
      "outputs": []
    },
    {
      "cell_type": "code",
      "source": [
        "\n",
        "# Assertion(если мы хотим сломать программу, которая не работает)"
      ],
      "metadata": {
        "id": "gapgE6ISr_03"
      },
      "execution_count": null,
      "outputs": []
    },
    {
      "cell_type": "code",
      "source": [
        "\n",
        "f = open('hello.txt', 'w')\n",
        "f.write('hello')\n",
        "f.close()"
      ],
      "metadata": {
        "id": "PavY0iD0sC0c"
      },
      "execution_count": null,
      "outputs": []
    },
    {
      "cell_type": "code",
      "source": [
        "\n",
        "f = open('hello.txt', 'w')\n",
        "try:\n",
        "  f.write('hello')\n",
        "finally:\n",
        "  f.close()"
      ],
      "metadata": {
        "id": "w7FGH-uvsGnu"
      },
      "execution_count": null,
      "outputs": []
    }
  ]
}