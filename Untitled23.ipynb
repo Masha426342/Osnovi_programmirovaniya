{
  "nbformat": 4,
  "nbformat_minor": 0,
  "metadata": {
    "colab": {
      "provenance": [],
      "authorship_tag": "ABX9TyPN44wfcJ3HxmdIGxJPMutl",
      "include_colab_link": true
    },
    "kernelspec": {
      "name": "python3",
      "display_name": "Python 3"
    },
    "language_info": {
      "name": "python"
    }
  },
  "cells": [
    {
      "cell_type": "markdown",
      "metadata": {
        "id": "view-in-github",
        "colab_type": "text"
      },
      "source": [
        "<a href=\"https://colab.research.google.com/github/Masha426342/Osnovi_programmirovaniya/blob/main/Untitled23.ipynb\" target=\"_parent\"><img src=\"https://colab.research.google.com/assets/colab-badge.svg\" alt=\"Open In Colab\"/></a>"
      ]
    },
    {
      "cell_type": "code",
      "execution_count": null,
      "metadata": {
        "id": "Zkt3XqHNezfH"
      },
      "outputs": [],
      "source": [
        "def nechoto(nums):\n",
        "  for x in (nums):\n",
        "    assert x >= 0\n",
        "\n",
        "def choto(nums):\n",
        "  k=1\n",
        "  for i in (nums):\n",
        "    k=i*k\n",
        "  if k<0:\n",
        "    a=k*(-1)\n",
        "  else:\n",
        "    a=k\n",
        "  b=a**(0.5) \n",
        "  if ((sum(nums))/3)>=b:\n",
        "    return ((sum(nums))/3)\n",
        "  else:\n",
        "    return b\n",
        "\n",
        "\n",
        "\n",
        "\n",
        "\n"
      ]
    },
    {
      "cell_type": "code",
      "source": [
        "import random\n",
        "try:\n",
        "  n=int(input(\"введите кол-во элементов в списке\"))\n",
        "  nums = [round(random.uniform(-1, 1), 2) for i in range(n)]\n",
        "  print(nums)\n",
        "  nechoto(nums)\n",
        "except TypeError:\n",
        "    print(\"Не тот тип данных\",)\n",
        "except AssertionError:\n",
        "  print(\"есть отрицательные числа\")\n",
        "choto(nums)"
      ],
      "metadata": {
        "colab": {
          "base_uri": "https://localhost:8080/"
        },
        "id": "6q96ex6Mrv6w",
        "outputId": "5bb464c3-6453-441e-e755-d6e5292f6411"
      },
      "execution_count": null,
      "outputs": [
        {
          "output_type": "stream",
          "name": "stdout",
          "text": [
            "введите кол-во элементов в списке3\n",
            "[-0.34, -0.05, 0.94]\n",
            "есть отрицательные числа\n"
          ]
        }
      ]
    }
  ]
}