{
  "nbformat": 4,
  "nbformat_minor": 0,
  "metadata": {
    "colab": {
      "provenance": [],
      "authorship_tag": "ABX9TyONSb2U4V32q779WpP5Uy6U",
      "include_colab_link": true
    },
    "kernelspec": {
      "name": "python3",
      "display_name": "Python 3"
    },
    "language_info": {
      "name": "python"
    }
  },
  "cells": [
    {
      "cell_type": "markdown",
      "metadata": {
        "id": "view-in-github",
        "colab_type": "text"
      },
      "source": [
        "<a href=\"https://colab.research.google.com/github/Masha426342/Osnovi_programmirovaniya/blob/main/%D0%9A%D0%BE%D0%BF%D0%B8%D1%8F_%D0%B1%D0%BB%D0%BE%D0%BA%D0%BD%D0%BE%D1%82%D0%B0_%22Untitled3_ipynb%22.ipynb\" target=\"_parent\"><img src=\"https://colab.research.google.com/assets/colab-badge.svg\" alt=\"Open In Colab\"/></a>"
      ]
    },
    {
      "cell_type": "code",
      "execution_count": null,
      "metadata": {
        "id": "HelOQp2QCbuf"
      },
      "outputs": [],
      "source": [
        "#3.2.2. Числа\n",
        "\n",
        "Вычислите значение следующего выражения (аргументы - целые числа и вводятся с клавиатуры):\n",
        "\n",
        "f=x5+7|−6|⋅y−−−−−−√37−zmody\n",
        "Округлите результат до 3-х знаков после запятой, используя функцию round()."
      ]
    },
    {
      "cell_type": "markdown",
      "source": [
        " Программирование на языке высокого уровня (Python).\n",
        "# https://www.yuripetrov.ru/edu/python\n",
        "# Задание task_03_02_02.\n",
        "#\n",
        "# Выполнил: Гутникова Мария Алексеевна\n",
        "# Группа: АДЕУ-221\n",
        "# E-mail: masha.gutnickowa@gmail.com\n",
        "\n"
      ],
      "metadata": {
        "id": "O4vDf99WC4ag"
      }
    },
    {
      "cell_type": "code",
      "source": [
        "x = int(input('x='))\n",
        "y = int(input('y='))\n",
        "z = int(input('z='))\n",
        "\n",
        "res =((x**5+7)/abs(-6)/y)**(1/3)/(7-z%y)\n",
        "\n",
        "print(round(res,2))\n",
        "# --------------\n",
        "# Пример вывода:\n",
        "#\n",
        "# x=0\n",
        "# y=1\n",
        "# z=2\n",
        "# 0.15\n",
        "\n"
      ],
      "metadata": {
        "colab": {
          "base_uri": "https://localhost:8080/"
        },
        "id": "2GLvhrUHDOZo",
        "outputId": "90f3ea64-6479-4414-f864-b2332eed2b7c"
      },
      "execution_count": null,
      "outputs": [
        {
          "output_type": "stream",
          "name": "stdout",
          "text": [
            "x=0\n",
            "y=1\n",
            "z=2\n",
            "0.15\n"
          ]
        }
      ]
    }
  ]
}